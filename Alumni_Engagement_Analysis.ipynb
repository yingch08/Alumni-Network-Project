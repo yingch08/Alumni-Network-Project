{
 "cells": [
  {
   "cell_type": "markdown",
   "id": "2ffb0935",
   "metadata": {
    "id": "2ffb0935"
   },
   "source": [
    "### Importing Nessecary Libraries "
   ]
  },
  {
   "cell_type": "code",
   "execution_count": 6,
   "id": "9aea0e0d",
   "metadata": {
    "executionInfo": {
     "elapsed": 1392,
     "status": "ok",
     "timestamp": 1639015234341,
     "user": {
      "displayName": "Rajesh Reddy Bogolu",
      "photoUrl": "https://lh3.googleusercontent.com/a/default-user=s64",
      "userId": "04960371768887858754"
     },
     "user_tz": 300
    },
    "id": "9aea0e0d"
   },
   "outputs": [],
   "source": [
    "import numpy as np\n",
    "from numpy import mean\n",
    "import pandas as pd \n",
    "import datetime \n",
    "import matplotlib.pyplot as plt\n",
    "import seaborn as sns"
   ]
  },
  {
   "cell_type": "markdown",
   "id": "b2de54fd",
   "metadata": {
    "id": "b2de54fd"
   },
   "source": [
    "### Reading and Concatinating the Alumni Data Set "
   ]
  },
  {
   "cell_type": "code",
   "execution_count": 7,
   "id": "83d3d275",
   "metadata": {
    "colab": {
     "base_uri": "https://localhost:8080/",
     "height": 858
    },
    "executionInfo": {
     "elapsed": 447,
     "status": "ok",
     "timestamp": 1639015236904,
     "user": {
      "displayName": "Rajesh Reddy Bogolu",
      "photoUrl": "https://lh3.googleusercontent.com/a/default-user=s64",
      "userId": "04960371768887858754"
     },
     "user_tz": 300
    },
    "id": "83d3d275",
    "outputId": "44761df2-b8b4-4bfc-fdb9-0f1d652434b6"
   },
   "outputs": [
    {
     "name": "stderr",
     "output_type": "stream",
     "text": [
      "C:\\Users\\28149\\anaconda3\\lib\\site-packages\\openpyxl\\worksheet\\_reader.py:312: UserWarning: Unknown extension is not supported and will be removed\n",
      "  warn(msg)\n"
     ]
    },
    {
     "data": {
      "text/html": [
       "<div>\n",
       "<style scoped>\n",
       "    .dataframe tbody tr th:only-of-type {\n",
       "        vertical-align: middle;\n",
       "    }\n",
       "\n",
       "    .dataframe tbody tr th {\n",
       "        vertical-align: top;\n",
       "    }\n",
       "\n",
       "    .dataframe thead th {\n",
       "        text-align: right;\n",
       "    }\n",
       "</style>\n",
       "<table border=\"1\" class=\"dataframe\">\n",
       "  <thead>\n",
       "    <tr style=\"text-align: right;\">\n",
       "      <th></th>\n",
       "      <th>Event Name</th>\n",
       "      <th>Activity Code</th>\n",
       "      <th>Activity Description</th>\n",
       "      <th>Location Code</th>\n",
       "      <th>Location Description</th>\n",
       "      <th>Group Code</th>\n",
       "      <th>Group Description</th>\n",
       "      <th>Event Date</th>\n",
       "      <th>Participated</th>\n",
       "      <th>Average Age</th>\n",
       "      <th>First Time Attendees</th>\n",
       "      <th>Percentage First Time Attendees</th>\n",
       "      <th>Major Prospects</th>\n",
       "      <th>Percentage Major Prospect</th>\n",
       "    </tr>\n",
       "  </thead>\n",
       "  <tbody>\n",
       "    <tr>\n",
       "      <th>0</th>\n",
       "      <td>Ocean City Summer Party</td>\n",
       "      <td>PEZOC</td>\n",
       "      <td>CP AAE-Ocean City Summer Party</td>\n",
       "      <td>PDES</td>\n",
       "      <td>CP DMV-Eastern Shore</td>\n",
       "      <td>PS9</td>\n",
       "      <td>CP Social-General</td>\n",
       "      <td>2019-07-06</td>\n",
       "      <td>63</td>\n",
       "      <td>52</td>\n",
       "      <td>5</td>\n",
       "      <td>0.079365</td>\n",
       "      <td>12</td>\n",
       "      <td>0.190476</td>\n",
       "    </tr>\n",
       "    <tr>\n",
       "      <th>1</th>\n",
       "      <td>Neurodiversity on Campus and in the Workplace ...</td>\n",
       "      <td>PEAPC</td>\n",
       "      <td>CP AA-Special Topics Webinar</td>\n",
       "      <td>POWE</td>\n",
       "      <td>CP Online-Webinar</td>\n",
       "      <td>PC9</td>\n",
       "      <td>CP ProDev-General</td>\n",
       "      <td>2019-07-10</td>\n",
       "      <td>7</td>\n",
       "      <td>56</td>\n",
       "      <td>1</td>\n",
       "      <td>0.142857</td>\n",
       "      <td>0</td>\n",
       "      <td>0.000000</td>\n",
       "    </tr>\n",
       "    <tr>\n",
       "      <th>2</th>\n",
       "      <td>Northern NJ Terps TPN</td>\n",
       "      <td>PEANJ</td>\n",
       "      <td>CP AA-Northern NJ Terps TPN</td>\n",
       "      <td>PNNJ</td>\n",
       "      <td>CP Northeast-NNJ</td>\n",
       "      <td>PC9</td>\n",
       "      <td>CP ProDev-General</td>\n",
       "      <td>2019-07-11</td>\n",
       "      <td>28</td>\n",
       "      <td>45</td>\n",
       "      <td>2</td>\n",
       "      <td>0.071429</td>\n",
       "      <td>2</td>\n",
       "      <td>0.071429</td>\n",
       "    </tr>\n",
       "    <tr>\n",
       "      <th>3</th>\n",
       "      <td>Philly Terps: Young Alumni Happy Hour Summer S...</td>\n",
       "      <td>PEAP1</td>\n",
       "      <td>CP AA-Philly Young Alum HH Summer Series</td>\n",
       "      <td>PNPH</td>\n",
       "      <td>CP Northeast-Philadelphia</td>\n",
       "      <td>PS9</td>\n",
       "      <td>CP Social-General</td>\n",
       "      <td>2019-07-11</td>\n",
       "      <td>3</td>\n",
       "      <td>34</td>\n",
       "      <td>0</td>\n",
       "      <td>0.000000</td>\n",
       "      <td>0</td>\n",
       "      <td>0.000000</td>\n",
       "    </tr>\n",
       "    <tr>\n",
       "      <th>4</th>\n",
       "      <td>Philly Terps Suite Night at the Ballpark</td>\n",
       "      <td>PEAP4</td>\n",
       "      <td>CP AA-Philly Terps Ste Night at Ballpark</td>\n",
       "      <td>PNPH</td>\n",
       "      <td>CP Northeast-Philadelphia</td>\n",
       "      <td>PS9</td>\n",
       "      <td>CP Social-General</td>\n",
       "      <td>2019-07-14</td>\n",
       "      <td>22</td>\n",
       "      <td>38</td>\n",
       "      <td>3</td>\n",
       "      <td>0.136364</td>\n",
       "      <td>0</td>\n",
       "      <td>0.000000</td>\n",
       "    </tr>\n",
       "    <tr>\n",
       "      <th>...</th>\n",
       "      <td>...</td>\n",
       "      <td>...</td>\n",
       "      <td>...</td>\n",
       "      <td>...</td>\n",
       "      <td>...</td>\n",
       "      <td>...</td>\n",
       "      <td>...</td>\n",
       "      <td>...</td>\n",
       "      <td>...</td>\n",
       "      <td>...</td>\n",
       "      <td>...</td>\n",
       "      <td>...</td>\n",
       "      <td>...</td>\n",
       "      <td>...</td>\n",
       "    </tr>\n",
       "    <tr>\n",
       "      <th>617</th>\n",
       "      <td>Baltimore Orioles Bullpen Pregame</td>\n",
       "      <td>PEAOB</td>\n",
       "      <td>CP AA-Baltimore Orioles Bullpen Pregame</td>\n",
       "      <td>PDBA</td>\n",
       "      <td>CP DMV- Baltimore</td>\n",
       "      <td>PS9</td>\n",
       "      <td>CP Social- General</td>\n",
       "      <td>2014-05-13</td>\n",
       "      <td>2</td>\n",
       "      <td>31</td>\n",
       "      <td>0</td>\n",
       "      <td>0.000000</td>\n",
       "      <td>0</td>\n",
       "      <td>0.000000</td>\n",
       "    </tr>\n",
       "    <tr>\n",
       "      <th>618</th>\n",
       "      <td>50th Reunion</td>\n",
       "      <td>PEZ50</td>\n",
       "      <td>CP AAE-50th Reunion</td>\n",
       "      <td>PDON</td>\n",
       "      <td>CP DMV- On Campus</td>\n",
       "      <td>PS3</td>\n",
       "      <td>CP Social- Emeriti</td>\n",
       "      <td>2014-05-21</td>\n",
       "      <td>76</td>\n",
       "      <td>67</td>\n",
       "      <td>0</td>\n",
       "      <td>0.000000</td>\n",
       "      <td>27</td>\n",
       "      <td>0.355263</td>\n",
       "    </tr>\n",
       "    <tr>\n",
       "      <th>619</th>\n",
       "      <td>Ring Ceremony</td>\n",
       "      <td>PEZRC</td>\n",
       "      <td>CP AAE-Ring Ceremony</td>\n",
       "      <td>PDON</td>\n",
       "      <td>CP DMV- On Campus</td>\n",
       "      <td>PSS</td>\n",
       "      <td>CP Social- Students</td>\n",
       "      <td>2014-05-21</td>\n",
       "      <td>68</td>\n",
       "      <td>29</td>\n",
       "      <td>0</td>\n",
       "      <td>0.000000</td>\n",
       "      <td>4</td>\n",
       "      <td>0.058824</td>\n",
       "    </tr>\n",
       "    <tr>\n",
       "      <th>620</th>\n",
       "      <td>Terps on the Hill</td>\n",
       "      <td>PEZTH</td>\n",
       "      <td>CP AAE-Terps on the Hill</td>\n",
       "      <td>PDDC</td>\n",
       "      <td>CP DMV- Washington DC</td>\n",
       "      <td>PD9</td>\n",
       "      <td>CP Advocacy- General</td>\n",
       "      <td>2014-06-12</td>\n",
       "      <td>118</td>\n",
       "      <td>34</td>\n",
       "      <td>0</td>\n",
       "      <td>0.000000</td>\n",
       "      <td>16</td>\n",
       "      <td>0.135593</td>\n",
       "    </tr>\n",
       "    <tr>\n",
       "      <th>621</th>\n",
       "      <td>NY Terps Alumnae Networking Dinner</td>\n",
       "      <td>PEANA</td>\n",
       "      <td>CP AA-NY Terps Alumnae Networking Dinner</td>\n",
       "      <td>PNNY</td>\n",
       "      <td>CP Northeast- New York</td>\n",
       "      <td>PCW</td>\n",
       "      <td>CP ProDev- Alumnae</td>\n",
       "      <td>2014-06-24</td>\n",
       "      <td>44</td>\n",
       "      <td>41</td>\n",
       "      <td>0</td>\n",
       "      <td>0.000000</td>\n",
       "      <td>9</td>\n",
       "      <td>0.204545</td>\n",
       "    </tr>\n",
       "  </tbody>\n",
       "</table>\n",
       "<p>622 rows × 14 columns</p>\n",
       "</div>"
      ],
      "text/plain": [
       "                                            Event Name Activity Code  \\\n",
       "0                              Ocean City Summer Party         PEZOC   \n",
       "1    Neurodiversity on Campus and in the Workplace ...         PEAPC   \n",
       "2                                Northern NJ Terps TPN         PEANJ   \n",
       "3    Philly Terps: Young Alumni Happy Hour Summer S...         PEAP1   \n",
       "4             Philly Terps Suite Night at the Ballpark         PEAP4   \n",
       "..                                                 ...           ...   \n",
       "617                 Baltimore Orioles Bullpen Pregame          PEAOB   \n",
       "618                                      50th Reunion          PEZ50   \n",
       "619                                     Ring Ceremony          PEZRC   \n",
       "620                                  Terps on the Hill         PEZTH   \n",
       "621                NY Terps Alumnae Networking Dinner          PEANA   \n",
       "\n",
       "                         Activity Description Location Code  \\\n",
       "0              CP AAE-Ocean City Summer Party          PDES   \n",
       "1                CP AA-Special Topics Webinar          POWE   \n",
       "2                 CP AA-Northern NJ Terps TPN          PNNJ   \n",
       "3    CP AA-Philly Young Alum HH Summer Series          PNPH   \n",
       "4    CP AA-Philly Terps Ste Night at Ballpark          PNPH   \n",
       "..                                        ...           ...   \n",
       "617   CP AA-Baltimore Orioles Bullpen Pregame          PDBA   \n",
       "618                       CP AAE-50th Reunion          PDON   \n",
       "619                      CP AAE-Ring Ceremony          PDON   \n",
       "620                  CP AAE-Terps on the Hill          PDDC   \n",
       "621  CP AA-NY Terps Alumnae Networking Dinner          PNNY   \n",
       "\n",
       "          Location Description Group Code      Group Description Event Date  \\\n",
       "0         CP DMV-Eastern Shore        PS9      CP Social-General 2019-07-06   \n",
       "1            CP Online-Webinar        PC9      CP ProDev-General 2019-07-10   \n",
       "2             CP Northeast-NNJ        PC9      CP ProDev-General 2019-07-11   \n",
       "3    CP Northeast-Philadelphia        PS9      CP Social-General 2019-07-11   \n",
       "4    CP Northeast-Philadelphia        PS9      CP Social-General 2019-07-14   \n",
       "..                         ...        ...                    ...        ...   \n",
       "617          CP DMV- Baltimore        PS9     CP Social- General 2014-05-13   \n",
       "618          CP DMV- On Campus        PS3     CP Social- Emeriti 2014-05-21   \n",
       "619          CP DMV- On Campus        PSS   CP Social- Students  2014-05-21   \n",
       "620      CP DMV- Washington DC        PD9  CP Advocacy- General  2014-06-12   \n",
       "621     CP Northeast- New York        PCW     CP ProDev- Alumnae 2014-06-24   \n",
       "\n",
       "     Participated  Average Age  First Time Attendees  \\\n",
       "0              63           52                     5   \n",
       "1               7           56                     1   \n",
       "2              28           45                     2   \n",
       "3               3           34                     0   \n",
       "4              22           38                     3   \n",
       "..            ...          ...                   ...   \n",
       "617             2           31                     0   \n",
       "618            76           67                     0   \n",
       "619            68           29                     0   \n",
       "620           118           34                     0   \n",
       "621            44           41                     0   \n",
       "\n",
       "     Percentage First Time Attendees  Major Prospects  \\\n",
       "0                           0.079365               12   \n",
       "1                           0.142857                0   \n",
       "2                           0.071429                2   \n",
       "3                           0.000000                0   \n",
       "4                           0.136364                0   \n",
       "..                               ...              ...   \n",
       "617                         0.000000                0   \n",
       "618                         0.000000               27   \n",
       "619                         0.000000                4   \n",
       "620                         0.000000               16   \n",
       "621                         0.000000                9   \n",
       "\n",
       "     Percentage Major Prospect  \n",
       "0                     0.190476  \n",
       "1                     0.000000  \n",
       "2                     0.071429  \n",
       "3                     0.000000  \n",
       "4                     0.000000  \n",
       "..                         ...  \n",
       "617                   0.000000  \n",
       "618                   0.355263  \n",
       "619                   0.058824  \n",
       "620                   0.135593  \n",
       "621                   0.204545  \n",
       "\n",
       "[622 rows x 14 columns]"
      ]
     },
     "execution_count": 7,
     "metadata": {},
     "output_type": "execute_result"
    }
   ],
   "source": [
    "#Merging all sheets into one dataframe \n",
    "datafinal = pd.concat(pd.read_excel('UMD Alumni Association Dataset.xlsx', sheet_name=None,header=0), ignore_index=True)\n",
    "datafinal\n",
    "\n",
    "#Code : https://pbpython.com/pandas-excel-tabs.html\n",
    "#622 rows and 17 columns "
   ]
  },
  {
   "cell_type": "markdown",
   "id": "71143dac",
   "metadata": {
    "id": "71143dac"
   },
   "source": [
    "### Data Cleansing "
   ]
  },
  {
   "cell_type": "code",
   "execution_count": 8,
   "id": "c24ce42f",
   "metadata": {
    "colab": {
     "base_uri": "https://localhost:8080/"
    },
    "executionInfo": {
     "elapsed": 233,
     "status": "ok",
     "timestamp": 1639015243909,
     "user": {
      "displayName": "Rajesh Reddy Bogolu",
      "photoUrl": "https://lh3.googleusercontent.com/a/default-user=s64",
      "userId": "04960371768887858754"
     },
     "user_tz": 300
    },
    "id": "c24ce42f",
    "outputId": "0552276a-40ce-41ce-e092-71d9a0144dc6"
   },
   "outputs": [
    {
     "name": "stdout",
     "output_type": "stream",
     "text": [
      "                                            Event Name Activity Code  \\\n",
      "0                              Ocean City Summer Party         PEZOC   \n",
      "1    Neurodiversity on Campus and in the Workplace ...         PEAPC   \n",
      "2                                Northern NJ Terps TPN         PEANJ   \n",
      "3    Philly Terps: Young Alumni Happy Hour Summer S...         PEAP1   \n",
      "4             Philly Terps Suite Night at the Ballpark         PEAP4   \n",
      "..                                                 ...           ...   \n",
      "617                 Baltimore Orioles Bullpen Pregame          PEAOB   \n",
      "618                                      50th Reunion          PEZ50   \n",
      "619                                     Ring Ceremony          PEZRC   \n",
      "620                                  Terps on the Hill         PEZTH   \n",
      "621                NY Terps Alumnae Networking Dinner          PEANA   \n",
      "\n",
      "                         Activity Description Location Code  \\\n",
      "0              CP AAE-Ocean City Summer Party          PDES   \n",
      "1                CP AA-Special Topics Webinar          POWE   \n",
      "2                 CP AA-Northern NJ Terps TPN          PNNJ   \n",
      "3    CP AA-Philly Young Alum HH Summer Series          PNPH   \n",
      "4    CP AA-Philly Terps Ste Night at Ballpark          PNPH   \n",
      "..                                        ...           ...   \n",
      "617   CP AA-Baltimore Orioles Bullpen Pregame          PDBA   \n",
      "618                       CP AAE-50th Reunion          PDON   \n",
      "619                      CP AAE-Ring Ceremony          PDON   \n",
      "620                  CP AAE-Terps on the Hill          PDDC   \n",
      "621  CP AA-NY Terps Alumnae Networking Dinner          PNNY   \n",
      "\n",
      "          Location Description Group Code      Group Description Event Date  \\\n",
      "0         CP DMV-Eastern Shore        PS9      CP Social-General 2019-07-06   \n",
      "1            CP Online-Webinar        PC9      CP ProDev-General 2019-07-10   \n",
      "2             CP Northeast-NNJ        PC9      CP ProDev-General 2019-07-11   \n",
      "3    CP Northeast-Philadelphia        PS9      CP Social-General 2019-07-11   \n",
      "4    CP Northeast-Philadelphia        PS9      CP Social-General 2019-07-14   \n",
      "..                         ...        ...                    ...        ...   \n",
      "617          CP DMV- Baltimore        PS9     CP Social- General 2014-05-13   \n",
      "618          CP DMV- On Campus        PS3     CP Social- Emeriti 2014-05-21   \n",
      "619          CP DMV- On Campus        PSS   CP Social- Students  2014-05-21   \n",
      "620      CP DMV- Washington DC        PD9  CP Advocacy- General  2014-06-12   \n",
      "621     CP Northeast- New York        PCW     CP ProDev- Alumnae 2014-06-24   \n",
      "\n",
      "     Participated  Average Age  First Time Attendees  \\\n",
      "0              63           52                     5   \n",
      "1               7           56                     1   \n",
      "2              28           45                     2   \n",
      "3               3           34                     0   \n",
      "4              22           38                     3   \n",
      "..            ...          ...                   ...   \n",
      "617             2           31                     0   \n",
      "618            76           67                     0   \n",
      "619            68           29                     0   \n",
      "620           118           34                     0   \n",
      "621            44           41                     0   \n",
      "\n",
      "     Percentage First Time Attendees  Major Prospects  \\\n",
      "0                           0.079365               12   \n",
      "1                           0.142857                0   \n",
      "2                           0.071429                2   \n",
      "3                           0.000000                0   \n",
      "4                           0.136364                0   \n",
      "..                               ...              ...   \n",
      "617                         0.000000                0   \n",
      "618                         0.000000               27   \n",
      "619                         0.000000                4   \n",
      "620                         0.000000               16   \n",
      "621                         0.000000                9   \n",
      "\n",
      "     Percentage Major Prospect          Area            City        Group  \\\n",
      "0                     0.190476        CP DMV   Eastern Shore    CP Social   \n",
      "1                     0.000000     CP Online         Webinar    CP ProDev   \n",
      "2                     0.071429  CP Northeast             NNJ    CP ProDev   \n",
      "3                     0.000000  CP Northeast    Philadelphia    CP Social   \n",
      "4                     0.000000  CP Northeast    Philadelphia    CP Social   \n",
      "..                         ...           ...             ...          ...   \n",
      "617                   0.000000        CP DMV       Baltimore    CP Social   \n",
      "618                   0.355263        CP DMV       On Campus    CP Social   \n",
      "619                   0.058824        CP DMV       On Campus    CP Social   \n",
      "620                   0.135593        CP DMV   Washington DC  CP Advocacy   \n",
      "621                   0.204545  CP Northeast        New York    CP ProDev   \n",
      "\n",
      "           Type  \n",
      "0       General  \n",
      "1       General  \n",
      "2       General  \n",
      "3       General  \n",
      "4       General  \n",
      "..          ...  \n",
      "617     General  \n",
      "618     Emeriti  \n",
      "619   Students   \n",
      "620    General   \n",
      "621     Alumnae  \n",
      "\n",
      "[622 rows x 18 columns]\n"
     ]
    }
   ],
   "source": [
    "datafinal[['Area', 'City']] = datafinal['Location Description'].str.split('-', expand=True)\n",
    "datafinal[['Group', 'Type']] = datafinal['Group Description'].str.split('-', expand=True)\n",
    "print(datafinal)"
   ]
  },
  {
   "cell_type": "code",
   "execution_count": 9,
   "id": "ebd023f9",
   "metadata": {
    "colab": {
     "base_uri": "https://localhost:8080/"
    },
    "executionInfo": {
     "elapsed": 178,
     "status": "ok",
     "timestamp": 1639015343842,
     "user": {
      "displayName": "Rajesh Reddy Bogolu",
      "photoUrl": "https://lh3.googleusercontent.com/a/default-user=s64",
      "userId": "04960371768887858754"
     },
     "user_tz": 300
    },
    "id": "ebd023f9",
    "outputId": "97fc756a-b5d1-43a7-94b8-da21d82fe7ae"
   },
   "outputs": [
    {
     "data": {
      "text/plain": [
       "array(['CP DMV', 'CP Online', 'CP Northeast', 'CP West Coast', 'CP West',\n",
       "       'CP Southeast', 'CP DC', 'CP Northeast ', 'CP Social',\n",
       "       'CP International', 'CP USA', 'CP Norhteast'], dtype=object)"
      ]
     },
     "execution_count": 9,
     "metadata": {},
     "output_type": "execute_result"
    }
   ],
   "source": [
    "uniqueValuesArea = datafinal['Area'].unique()\n",
    "uniqueValuesArea"
   ]
  },
  {
   "cell_type": "code",
   "execution_count": 10,
   "id": "80b6651b",
   "metadata": {
    "executionInfo": {
     "elapsed": 8,
     "status": "ok",
     "timestamp": 1639015346484,
     "user": {
      "displayName": "Rajesh Reddy Bogolu",
      "photoUrl": "https://lh3.googleusercontent.com/a/default-user=s64",
      "userId": "04960371768887858754"
     },
     "user_tz": 300
    },
    "id": "80b6651b"
   },
   "outputs": [],
   "source": [
    "datafinal.replace(\"CP Norhteast\", \"CP Northeast\", inplace=True) #Spelling Error \n",
    "datafinal.replace(\"CP Northeast \", \"CP Northeast\", inplace=True) # Spacing Error "
   ]
  },
  {
   "cell_type": "code",
   "execution_count": 11,
   "id": "215eff22",
   "metadata": {
    "colab": {
     "base_uri": "https://localhost:8080/"
    },
    "executionInfo": {
     "elapsed": 298,
     "status": "ok",
     "timestamp": 1639015348624,
     "user": {
      "displayName": "Rajesh Reddy Bogolu",
      "photoUrl": "https://lh3.googleusercontent.com/a/default-user=s64",
      "userId": "04960371768887858754"
     },
     "user_tz": 300
    },
    "id": "215eff22",
    "outputId": "422893b5-2daa-481b-dc87-670ab88a1ee7"
   },
   "outputs": [
    {
     "data": {
      "text/plain": [
       "array(['CP DMV', 'CP Online', 'CP Northeast', 'CP West Coast', 'CP West',\n",
       "       'CP Southeast', 'CP DC', 'CP Social', 'CP International', 'CP USA'],\n",
       "      dtype=object)"
      ]
     },
     "execution_count": 11,
     "metadata": {},
     "output_type": "execute_result"
    }
   ],
   "source": [
    "uniqueValuesArea = datafinal['Area'].unique()\n",
    "uniqueValuesArea"
   ]
  },
  {
   "cell_type": "code",
   "execution_count": 12,
   "id": "3b8587b8",
   "metadata": {
    "colab": {
     "base_uri": "https://localhost:8080/"
    },
    "executionInfo": {
     "elapsed": 34,
     "status": "ok",
     "timestamp": 1639015350795,
     "user": {
      "displayName": "Rajesh Reddy Bogolu",
      "photoUrl": "https://lh3.googleusercontent.com/a/default-user=s64",
      "userId": "04960371768887858754"
     },
     "user_tz": 300
    },
    "id": "3b8587b8",
    "outputId": "6caaec39-867b-40bd-8e64-323fecc1cf8f"
   },
   "outputs": [
    {
     "data": {
      "text/plain": [
       "array(['CP Social', 'CP ProDev', 'CP Athletics', 'CP Prodev',\n",
       "       'CP Cultural', 'CP Affinity', 'CP Service', 'CP Advocacy',\n",
       "       'CP Affiniy', 'CP General', 'CP D&I', 'CP Career', 'CP Campaign',\n",
       "       'CP Pro Dev', 'CP Stewardship', 'CP Cultivation', 'CP DMV',\n",
       "       'CP Membership', 'CP Stewarship'], dtype=object)"
      ]
     },
     "execution_count": 12,
     "metadata": {},
     "output_type": "execute_result"
    }
   ],
   "source": [
    "uniqueValuesGroup = datafinal['Group'].unique()\n",
    "uniqueValuesGroup"
   ]
  },
  {
   "cell_type": "code",
   "execution_count": 13,
   "id": "ef4569dd",
   "metadata": {
    "executionInfo": {
     "elapsed": 182,
     "status": "ok",
     "timestamp": 1639015353209,
     "user": {
      "displayName": "Rajesh Reddy Bogolu",
      "photoUrl": "https://lh3.googleusercontent.com/a/default-user=s64",
      "userId": "04960371768887858754"
     },
     "user_tz": 300
    },
    "id": "ef4569dd"
   },
   "outputs": [],
   "source": [
    "datafinal.replace(\"CP Affiniy\", \"CP Affinity\", inplace=True)\n",
    "datafinal.replace(\"CP Stewarship\", \"CP Stewardship\", inplace=True)\n",
    "datafinal.replace(\"CP Prodev\", \"CP ProDev\", inplace=True)\n",
    "datafinal.replace(\"CP Pro Dev\", \"CP ProDev\", inplace=True)"
   ]
  },
  {
   "cell_type": "code",
   "execution_count": 14,
   "id": "4454b7c9",
   "metadata": {
    "colab": {
     "base_uri": "https://localhost:8080/"
    },
    "executionInfo": {
     "elapsed": 157,
     "status": "ok",
     "timestamp": 1639015355079,
     "user": {
      "displayName": "Rajesh Reddy Bogolu",
      "photoUrl": "https://lh3.googleusercontent.com/a/default-user=s64",
      "userId": "04960371768887858754"
     },
     "user_tz": 300
    },
    "id": "4454b7c9",
    "outputId": "6d71bbf2-9e44-4828-e183-f31e14be8abe"
   },
   "outputs": [
    {
     "data": {
      "text/plain": [
       "array(['CP Social', 'CP ProDev', 'CP Athletics', 'CP Cultural',\n",
       "       'CP Affinity', 'CP Service', 'CP Advocacy', 'CP General', 'CP D&I',\n",
       "       'CP Career', 'CP Campaign', 'CP Stewardship', 'CP Cultivation',\n",
       "       'CP DMV', 'CP Membership'], dtype=object)"
      ]
     },
     "execution_count": 14,
     "metadata": {},
     "output_type": "execute_result"
    }
   ],
   "source": [
    "uniqueValuesGroup = datafinal['Group'].unique()\n",
    "uniqueValuesGroup"
   ]
  },
  {
   "cell_type": "markdown",
   "id": "c12733d4",
   "metadata": {
    "id": "c12733d4"
   },
   "source": [
    "### Data Understanding "
   ]
  },
  {
   "cell_type": "code",
   "execution_count": 15,
   "id": "6e957746",
   "metadata": {
    "colab": {
     "base_uri": "https://localhost:8080/"
    },
    "executionInfo": {
     "elapsed": 873,
     "status": "ok",
     "timestamp": 1639015363222,
     "user": {
      "displayName": "Rajesh Reddy Bogolu",
      "photoUrl": "https://lh3.googleusercontent.com/a/default-user=s64",
      "userId": "04960371768887858754"
     },
     "user_tz": 300
    },
    "id": "6e957746",
    "outputId": "060584a3-9426-4863-9908-c6399c00858e"
   },
   "outputs": [
    {
     "data": {
      "text/plain": [
       "Event Name                                 object\n",
       "Activity Code                              object\n",
       "Activity Description                       object\n",
       "Location Code                              object\n",
       "Location Description                       object\n",
       "Group Code                                 object\n",
       "Group Description                          object\n",
       "Event Date                         datetime64[ns]\n",
       "Participated                                int64\n",
       "Average Age                                 int64\n",
       "First Time Attendees                        int64\n",
       "Percentage First Time Attendees           float64\n",
       "Major Prospects                             int64\n",
       "Percentage Major Prospect                 float64\n",
       "Area                                       object\n",
       "City                                       object\n",
       "Group                                      object\n",
       "Type                                       object\n",
       "dtype: object"
      ]
     },
     "execution_count": 15,
     "metadata": {},
     "output_type": "execute_result"
    }
   ],
   "source": [
    "datafinal.dtypes"
   ]
  },
  {
   "cell_type": "code",
   "execution_count": 16,
   "id": "211f8474",
   "metadata": {
    "colab": {
     "base_uri": "https://localhost:8080/",
     "height": 930
    },
    "executionInfo": {
     "elapsed": 320,
     "status": "ok",
     "timestamp": 1639015390578,
     "user": {
      "displayName": "Rajesh Reddy Bogolu",
      "photoUrl": "https://lh3.googleusercontent.com/a/default-user=s64",
      "userId": "04960371768887858754"
     },
     "user_tz": 300
    },
    "id": "211f8474",
    "outputId": "122535fc-3932-4709-e84a-25a2e2969677"
   },
   "outputs": [
    {
     "data": {
      "text/html": [
       "<div>\n",
       "<style scoped>\n",
       "    .dataframe tbody tr th:only-of-type {\n",
       "        vertical-align: middle;\n",
       "    }\n",
       "\n",
       "    .dataframe tbody tr th {\n",
       "        vertical-align: top;\n",
       "    }\n",
       "\n",
       "    .dataframe thead th {\n",
       "        text-align: right;\n",
       "    }\n",
       "</style>\n",
       "<table border=\"1\" class=\"dataframe\">\n",
       "  <thead>\n",
       "    <tr style=\"text-align: right;\">\n",
       "      <th></th>\n",
       "      <th>Event Name</th>\n",
       "      <th>Activity Code</th>\n",
       "      <th>Activity Description</th>\n",
       "      <th>Location Code</th>\n",
       "      <th>Location Description</th>\n",
       "      <th>Group Code</th>\n",
       "      <th>Group Description</th>\n",
       "      <th>Event Date</th>\n",
       "      <th>Participated</th>\n",
       "      <th>Average Age</th>\n",
       "      <th>First Time Attendees</th>\n",
       "      <th>Percentage First Time Attendees</th>\n",
       "      <th>Major Prospects</th>\n",
       "      <th>Percentage Major Prospect</th>\n",
       "      <th>Area</th>\n",
       "      <th>City</th>\n",
       "      <th>Group</th>\n",
       "      <th>Type</th>\n",
       "    </tr>\n",
       "  </thead>\n",
       "  <tbody>\n",
       "    <tr>\n",
       "      <th>69</th>\n",
       "      <td>Tucson Terps: Joint Football Watch Party with ...</td>\n",
       "      <td>PEAT6</td>\n",
       "      <td>CP AA-Tucson Terps Joint Football Watch</td>\n",
       "      <td>PWTU</td>\n",
       "      <td>CP West Coast-Tucson</td>\n",
       "      <td>PA9</td>\n",
       "      <td>CP Athletics-General</td>\n",
       "      <td>2019-11-30</td>\n",
       "      <td>1</td>\n",
       "      <td>64</td>\n",
       "      <td>1</td>\n",
       "      <td>1.000000</td>\n",
       "      <td>0</td>\n",
       "      <td>0.000000</td>\n",
       "      <td>CP West Coast</td>\n",
       "      <td>Tucson</td>\n",
       "      <td>CP Athletics</td>\n",
       "      <td>General</td>\n",
       "    </tr>\n",
       "    <tr>\n",
       "      <th>68</th>\n",
       "      <td>Football Tailgate</td>\n",
       "      <td>PEZFT</td>\n",
       "      <td>CP AAE-Football Tailgate</td>\n",
       "      <td>PDON</td>\n",
       "      <td>CP DMV-On Campus</td>\n",
       "      <td>PA9</td>\n",
       "      <td>CP Athletics-General</td>\n",
       "      <td>2019-11-23</td>\n",
       "      <td>38</td>\n",
       "      <td>54</td>\n",
       "      <td>1</td>\n",
       "      <td>0.026316</td>\n",
       "      <td>0</td>\n",
       "      <td>0.000000</td>\n",
       "      <td>CP DMV</td>\n",
       "      <td>On Campus</td>\n",
       "      <td>CP Athletics</td>\n",
       "      <td>General</td>\n",
       "    </tr>\n",
       "    <tr>\n",
       "      <th>67</th>\n",
       "      <td>CIVICUS 20th Anniversary Celebration</td>\n",
       "      <td>PEAC5</td>\n",
       "      <td>CP AA-CIVICUS 20th Anniv Celebration</td>\n",
       "      <td>PDON</td>\n",
       "      <td>CP DMV-On Campus</td>\n",
       "      <td>PSC</td>\n",
       "      <td>CP Social-CIVICUS</td>\n",
       "      <td>2019-11-17</td>\n",
       "      <td>29</td>\n",
       "      <td>31</td>\n",
       "      <td>2</td>\n",
       "      <td>0.068966</td>\n",
       "      <td>0</td>\n",
       "      <td>0.000000</td>\n",
       "      <td>CP DMV</td>\n",
       "      <td>On Campus</td>\n",
       "      <td>CP Social</td>\n",
       "      <td>CIVICUS</td>\n",
       "    </tr>\n",
       "    <tr>\n",
       "      <th>66</th>\n",
       "      <td>Leadership Conference</td>\n",
       "      <td>PEALC</td>\n",
       "      <td>CP AA-Leadership Conference</td>\n",
       "      <td>PDON</td>\n",
       "      <td>CP DMV-On Campus</td>\n",
       "      <td>PC9</td>\n",
       "      <td>CP ProDev-General</td>\n",
       "      <td>2019-11-15</td>\n",
       "      <td>100</td>\n",
       "      <td>38</td>\n",
       "      <td>4</td>\n",
       "      <td>0.040000</td>\n",
       "      <td>1</td>\n",
       "      <td>0.010000</td>\n",
       "      <td>CP DMV</td>\n",
       "      <td>On Campus</td>\n",
       "      <td>CP ProDev</td>\n",
       "      <td>General</td>\n",
       "    </tr>\n",
       "    <tr>\n",
       "      <th>65</th>\n",
       "      <td>Patent Primer Webinar</td>\n",
       "      <td>PEAPD</td>\n",
       "      <td>CP AA-Pro/Per Development Webinar</td>\n",
       "      <td>POWE</td>\n",
       "      <td>CP Online-Webinar</td>\n",
       "      <td>PC9</td>\n",
       "      <td>CP ProDev-General</td>\n",
       "      <td>2019-11-13</td>\n",
       "      <td>49</td>\n",
       "      <td>41</td>\n",
       "      <td>7</td>\n",
       "      <td>0.142857</td>\n",
       "      <td>1</td>\n",
       "      <td>0.020408</td>\n",
       "      <td>CP Online</td>\n",
       "      <td>Webinar</td>\n",
       "      <td>CP ProDev</td>\n",
       "      <td>General</td>\n",
       "    </tr>\n",
       "    <tr>\n",
       "      <th>...</th>\n",
       "      <td>...</td>\n",
       "      <td>...</td>\n",
       "      <td>...</td>\n",
       "      <td>...</td>\n",
       "      <td>...</td>\n",
       "      <td>...</td>\n",
       "      <td>...</td>\n",
       "      <td>...</td>\n",
       "      <td>...</td>\n",
       "      <td>...</td>\n",
       "      <td>...</td>\n",
       "      <td>...</td>\n",
       "      <td>...</td>\n",
       "      <td>...</td>\n",
       "      <td>...</td>\n",
       "      <td>...</td>\n",
       "      <td>...</td>\n",
       "      <td>...</td>\n",
       "    </tr>\n",
       "    <tr>\n",
       "      <th>612</th>\n",
       "      <td>Prince George's Terps WBB Suite</td>\n",
       "      <td>PEASP</td>\n",
       "      <td>CP AA-Prince George's Terps WBB Suite</td>\n",
       "      <td>PDON</td>\n",
       "      <td>CP DMV- On Campus</td>\n",
       "      <td>PA9</td>\n",
       "      <td>CP Athletics- General</td>\n",
       "      <td>2014-03-02</td>\n",
       "      <td>19</td>\n",
       "      <td>60</td>\n",
       "      <td>0</td>\n",
       "      <td>0.000000</td>\n",
       "      <td>5</td>\n",
       "      <td>0.263158</td>\n",
       "      <td>CP DMV</td>\n",
       "      <td>On Campus</td>\n",
       "      <td>CP Athletics</td>\n",
       "      <td>General</td>\n",
       "    </tr>\n",
       "    <tr>\n",
       "      <th>611</th>\n",
       "      <td>Tampa Day at the Races</td>\n",
       "      <td>PEATD</td>\n",
       "      <td>CP AA-Tampa Day at the Races</td>\n",
       "      <td>PSTA</td>\n",
       "      <td>CP Southeast- Tampa</td>\n",
       "      <td>PS9</td>\n",
       "      <td>CP Social- General</td>\n",
       "      <td>2014-02-01</td>\n",
       "      <td>17</td>\n",
       "      <td>66</td>\n",
       "      <td>0</td>\n",
       "      <td>0.000000</td>\n",
       "      <td>7</td>\n",
       "      <td>0.411765</td>\n",
       "      <td>CP Southeast</td>\n",
       "      <td>Tampa</td>\n",
       "      <td>CP Social</td>\n",
       "      <td>General</td>\n",
       "    </tr>\n",
       "    <tr>\n",
       "      <th>610</th>\n",
       "      <td>2013 Military Bowl</td>\n",
       "      <td>PEZMI</td>\n",
       "      <td>CP AAE-2013 Military Bowl</td>\n",
       "      <td>PDAN</td>\n",
       "      <td>CP DMV- Annapolis</td>\n",
       "      <td>PA9</td>\n",
       "      <td>CP Athletics- General</td>\n",
       "      <td>2013-12-27</td>\n",
       "      <td>224</td>\n",
       "      <td>47</td>\n",
       "      <td>0</td>\n",
       "      <td>0.000000</td>\n",
       "      <td>34</td>\n",
       "      <td>0.151786</td>\n",
       "      <td>CP DMV</td>\n",
       "      <td>Annapolis</td>\n",
       "      <td>CP Athletics</td>\n",
       "      <td>General</td>\n",
       "    </tr>\n",
       "    <tr>\n",
       "      <th>609</th>\n",
       "      <td>Awards Gala</td>\n",
       "      <td>PEZAG</td>\n",
       "      <td>CP AAE-Awards Gala</td>\n",
       "      <td>PDON</td>\n",
       "      <td>CP DMV- On Campus</td>\n",
       "      <td>PH9</td>\n",
       "      <td>CP Stewardship- General</td>\n",
       "      <td>2013-10-25</td>\n",
       "      <td>340</td>\n",
       "      <td>53</td>\n",
       "      <td>0</td>\n",
       "      <td>0.000000</td>\n",
       "      <td>131</td>\n",
       "      <td>0.385294</td>\n",
       "      <td>CP DMV</td>\n",
       "      <td>On Campus</td>\n",
       "      <td>CP Stewardship</td>\n",
       "      <td>General</td>\n",
       "    </tr>\n",
       "    <tr>\n",
       "      <th>608</th>\n",
       "      <td>2013 Bowl Game Tailgate</td>\n",
       "      <td>PEZ13</td>\n",
       "      <td>CP AAE-2013 Bowl Game Tailgate</td>\n",
       "      <td>PDBA</td>\n",
       "      <td>CP DMV- Baltimore</td>\n",
       "      <td>PA9</td>\n",
       "      <td>CP Athletics- General</td>\n",
       "      <td>2013-09-21</td>\n",
       "      <td>63</td>\n",
       "      <td>49</td>\n",
       "      <td>0</td>\n",
       "      <td>0.000000</td>\n",
       "      <td>23</td>\n",
       "      <td>0.365079</td>\n",
       "      <td>CP DMV</td>\n",
       "      <td>Baltimore</td>\n",
       "      <td>CP Athletics</td>\n",
       "      <td>General</td>\n",
       "    </tr>\n",
       "  </tbody>\n",
       "</table>\n",
       "<p>622 rows × 18 columns</p>\n",
       "</div>"
      ],
      "text/plain": [
       "                                            Event Name Activity Code  \\\n",
       "69   Tucson Terps: Joint Football Watch Party with ...         PEAT6   \n",
       "68                                   Football Tailgate         PEZFT   \n",
       "67                CIVICUS 20th Anniversary Celebration         PEAC5   \n",
       "66                               Leadership Conference         PEALC   \n",
       "65                               Patent Primer Webinar         PEAPD   \n",
       "..                                                 ...           ...   \n",
       "612                   Prince George's Terps WBB Suite          PEASP   \n",
       "611                             Tampa Day at the Races         PEATD   \n",
       "610                                2013 Military Bowl          PEZMI   \n",
       "609                                        Awards Gala         PEZAG   \n",
       "608                            2013 Bowl Game Tailgate         PEZ13   \n",
       "\n",
       "                        Activity Description Location Code  \\\n",
       "69   CP AA-Tucson Terps Joint Football Watch          PWTU   \n",
       "68                  CP AAE-Football Tailgate          PDON   \n",
       "67      CP AA-CIVICUS 20th Anniv Celebration          PDON   \n",
       "66               CP AA-Leadership Conference          PDON   \n",
       "65         CP AA-Pro/Per Development Webinar          POWE   \n",
       "..                                       ...           ...   \n",
       "612    CP AA-Prince George's Terps WBB Suite          PDON   \n",
       "611             CP AA-Tampa Day at the Races          PSTA   \n",
       "610                CP AAE-2013 Military Bowl          PDAN   \n",
       "609                       CP AAE-Awards Gala          PDON   \n",
       "608           CP AAE-2013 Bowl Game Tailgate          PDBA   \n",
       "\n",
       "     Location Description Group Code        Group Description Event Date  \\\n",
       "69   CP West Coast-Tucson        PA9     CP Athletics-General 2019-11-30   \n",
       "68       CP DMV-On Campus        PA9     CP Athletics-General 2019-11-23   \n",
       "67       CP DMV-On Campus        PSC        CP Social-CIVICUS 2019-11-17   \n",
       "66       CP DMV-On Campus        PC9        CP ProDev-General 2019-11-15   \n",
       "65      CP Online-Webinar        PC9        CP ProDev-General 2019-11-13   \n",
       "..                    ...        ...                      ...        ...   \n",
       "612     CP DMV- On Campus        PA9    CP Athletics- General 2014-03-02   \n",
       "611   CP Southeast- Tampa        PS9       CP Social- General 2014-02-01   \n",
       "610     CP DMV- Annapolis        PA9    CP Athletics- General 2013-12-27   \n",
       "609     CP DMV- On Campus        PH9  CP Stewardship- General 2013-10-25   \n",
       "608     CP DMV- Baltimore        PA9    CP Athletics- General 2013-09-21   \n",
       "\n",
       "     Participated  Average Age  First Time Attendees  \\\n",
       "69              1           64                     1   \n",
       "68             38           54                     1   \n",
       "67             29           31                     2   \n",
       "66            100           38                     4   \n",
       "65             49           41                     7   \n",
       "..            ...          ...                   ...   \n",
       "612            19           60                     0   \n",
       "611            17           66                     0   \n",
       "610           224           47                     0   \n",
       "609           340           53                     0   \n",
       "608            63           49                     0   \n",
       "\n",
       "     Percentage First Time Attendees  Major Prospects  \\\n",
       "69                          1.000000                0   \n",
       "68                          0.026316                0   \n",
       "67                          0.068966                0   \n",
       "66                          0.040000                1   \n",
       "65                          0.142857                1   \n",
       "..                               ...              ...   \n",
       "612                         0.000000                5   \n",
       "611                         0.000000                7   \n",
       "610                         0.000000               34   \n",
       "609                         0.000000              131   \n",
       "608                         0.000000               23   \n",
       "\n",
       "     Percentage Major Prospect           Area        City           Group  \\\n",
       "69                    0.000000  CP West Coast      Tucson    CP Athletics   \n",
       "68                    0.000000         CP DMV   On Campus    CP Athletics   \n",
       "67                    0.000000         CP DMV   On Campus       CP Social   \n",
       "66                    0.010000         CP DMV   On Campus       CP ProDev   \n",
       "65                    0.020408      CP Online     Webinar       CP ProDev   \n",
       "..                         ...            ...         ...             ...   \n",
       "612                   0.263158         CP DMV   On Campus    CP Athletics   \n",
       "611                   0.411765   CP Southeast       Tampa       CP Social   \n",
       "610                   0.151786         CP DMV   Annapolis    CP Athletics   \n",
       "609                   0.385294         CP DMV   On Campus  CP Stewardship   \n",
       "608                   0.365079         CP DMV   Baltimore    CP Athletics   \n",
       "\n",
       "         Type  \n",
       "69    General  \n",
       "68    General  \n",
       "67    CIVICUS  \n",
       "66    General  \n",
       "65    General  \n",
       "..        ...  \n",
       "612   General  \n",
       "611   General  \n",
       "610   General  \n",
       "609   General  \n",
       "608   General  \n",
       "\n",
       "[622 rows x 18 columns]"
      ]
     },
     "execution_count": 16,
     "metadata": {},
     "output_type": "execute_result"
    }
   ],
   "source": [
    "datafinal.sort_values(by='Event Date', ascending=False)"
   ]
  },
  {
   "cell_type": "code",
   "execution_count": 17,
   "id": "9aee7dbd",
   "metadata": {
    "colab": {
     "base_uri": "https://localhost:8080/",
     "height": 469
    },
    "executionInfo": {
     "elapsed": 283,
     "status": "ok",
     "timestamp": 1639015398801,
     "user": {
      "displayName": "Rajesh Reddy Bogolu",
      "photoUrl": "https://lh3.googleusercontent.com/a/default-user=s64",
      "userId": "04960371768887858754"
     },
     "user_tz": 300
    },
    "id": "9aee7dbd",
    "outputId": "1ce79744-4b3a-41d0-e170-bf86e1d86e77"
   },
   "outputs": [
    {
     "data": {
      "text/html": [
       "<div>\n",
       "<style scoped>\n",
       "    .dataframe tbody tr th:only-of-type {\n",
       "        vertical-align: middle;\n",
       "    }\n",
       "\n",
       "    .dataframe tbody tr th {\n",
       "        vertical-align: top;\n",
       "    }\n",
       "\n",
       "    .dataframe thead th {\n",
       "        text-align: right;\n",
       "    }\n",
       "</style>\n",
       "<table border=\"1\" class=\"dataframe\">\n",
       "  <thead>\n",
       "    <tr style=\"text-align: right;\">\n",
       "      <th></th>\n",
       "      <th>Event Name</th>\n",
       "      <th>Activity Code</th>\n",
       "      <th>Activity Description</th>\n",
       "      <th>Location Code</th>\n",
       "      <th>Location Description</th>\n",
       "      <th>Group Code</th>\n",
       "      <th>Group Description</th>\n",
       "      <th>Event Date</th>\n",
       "      <th>Participated</th>\n",
       "      <th>Average Age</th>\n",
       "      <th>First Time Attendees</th>\n",
       "      <th>Percentage First Time Attendees</th>\n",
       "      <th>Major Prospects</th>\n",
       "      <th>Percentage Major Prospect</th>\n",
       "      <th>Area</th>\n",
       "      <th>City</th>\n",
       "      <th>Group</th>\n",
       "      <th>Type</th>\n",
       "    </tr>\n",
       "  </thead>\n",
       "  <tbody>\n",
       "    <tr>\n",
       "      <th>617</th>\n",
       "      <td>Baltimore Orioles Bullpen Pregame</td>\n",
       "      <td>PEAOB</td>\n",
       "      <td>CP AA-Baltimore Orioles Bullpen Pregame</td>\n",
       "      <td>PDBA</td>\n",
       "      <td>CP DMV- Baltimore</td>\n",
       "      <td>PS9</td>\n",
       "      <td>CP Social- General</td>\n",
       "      <td>2014-05-13</td>\n",
       "      <td>2</td>\n",
       "      <td>31</td>\n",
       "      <td>0</td>\n",
       "      <td>0.0</td>\n",
       "      <td>0</td>\n",
       "      <td>0.000000</td>\n",
       "      <td>CP DMV</td>\n",
       "      <td>Baltimore</td>\n",
       "      <td>CP Social</td>\n",
       "      <td>General</td>\n",
       "    </tr>\n",
       "    <tr>\n",
       "      <th>618</th>\n",
       "      <td>50th Reunion</td>\n",
       "      <td>PEZ50</td>\n",
       "      <td>CP AAE-50th Reunion</td>\n",
       "      <td>PDON</td>\n",
       "      <td>CP DMV- On Campus</td>\n",
       "      <td>PS3</td>\n",
       "      <td>CP Social- Emeriti</td>\n",
       "      <td>2014-05-21</td>\n",
       "      <td>76</td>\n",
       "      <td>67</td>\n",
       "      <td>0</td>\n",
       "      <td>0.0</td>\n",
       "      <td>27</td>\n",
       "      <td>0.355263</td>\n",
       "      <td>CP DMV</td>\n",
       "      <td>On Campus</td>\n",
       "      <td>CP Social</td>\n",
       "      <td>Emeriti</td>\n",
       "    </tr>\n",
       "    <tr>\n",
       "      <th>619</th>\n",
       "      <td>Ring Ceremony</td>\n",
       "      <td>PEZRC</td>\n",
       "      <td>CP AAE-Ring Ceremony</td>\n",
       "      <td>PDON</td>\n",
       "      <td>CP DMV- On Campus</td>\n",
       "      <td>PSS</td>\n",
       "      <td>CP Social- Students</td>\n",
       "      <td>2014-05-21</td>\n",
       "      <td>68</td>\n",
       "      <td>29</td>\n",
       "      <td>0</td>\n",
       "      <td>0.0</td>\n",
       "      <td>4</td>\n",
       "      <td>0.058824</td>\n",
       "      <td>CP DMV</td>\n",
       "      <td>On Campus</td>\n",
       "      <td>CP Social</td>\n",
       "      <td>Students</td>\n",
       "    </tr>\n",
       "    <tr>\n",
       "      <th>620</th>\n",
       "      <td>Terps on the Hill</td>\n",
       "      <td>PEZTH</td>\n",
       "      <td>CP AAE-Terps on the Hill</td>\n",
       "      <td>PDDC</td>\n",
       "      <td>CP DMV- Washington DC</td>\n",
       "      <td>PD9</td>\n",
       "      <td>CP Advocacy- General</td>\n",
       "      <td>2014-06-12</td>\n",
       "      <td>118</td>\n",
       "      <td>34</td>\n",
       "      <td>0</td>\n",
       "      <td>0.0</td>\n",
       "      <td>16</td>\n",
       "      <td>0.135593</td>\n",
       "      <td>CP DMV</td>\n",
       "      <td>Washington DC</td>\n",
       "      <td>CP Advocacy</td>\n",
       "      <td>General</td>\n",
       "    </tr>\n",
       "    <tr>\n",
       "      <th>621</th>\n",
       "      <td>NY Terps Alumnae Networking Dinner</td>\n",
       "      <td>PEANA</td>\n",
       "      <td>CP AA-NY Terps Alumnae Networking Dinner</td>\n",
       "      <td>PNNY</td>\n",
       "      <td>CP Northeast- New York</td>\n",
       "      <td>PCW</td>\n",
       "      <td>CP ProDev- Alumnae</td>\n",
       "      <td>2014-06-24</td>\n",
       "      <td>44</td>\n",
       "      <td>41</td>\n",
       "      <td>0</td>\n",
       "      <td>0.0</td>\n",
       "      <td>9</td>\n",
       "      <td>0.204545</td>\n",
       "      <td>CP Northeast</td>\n",
       "      <td>New York</td>\n",
       "      <td>CP ProDev</td>\n",
       "      <td>Alumnae</td>\n",
       "    </tr>\n",
       "  </tbody>\n",
       "</table>\n",
       "</div>"
      ],
      "text/plain": [
       "                              Event Name Activity Code  \\\n",
       "617   Baltimore Orioles Bullpen Pregame          PEAOB   \n",
       "618                        50th Reunion          PEZ50   \n",
       "619                       Ring Ceremony          PEZRC   \n",
       "620                    Terps on the Hill         PEZTH   \n",
       "621  NY Terps Alumnae Networking Dinner          PEANA   \n",
       "\n",
       "                         Activity Description Location Code  \\\n",
       "617   CP AA-Baltimore Orioles Bullpen Pregame          PDBA   \n",
       "618                       CP AAE-50th Reunion          PDON   \n",
       "619                      CP AAE-Ring Ceremony          PDON   \n",
       "620                  CP AAE-Terps on the Hill          PDDC   \n",
       "621  CP AA-NY Terps Alumnae Networking Dinner          PNNY   \n",
       "\n",
       "       Location Description Group Code      Group Description Event Date  \\\n",
       "617       CP DMV- Baltimore        PS9     CP Social- General 2014-05-13   \n",
       "618       CP DMV- On Campus        PS3     CP Social- Emeriti 2014-05-21   \n",
       "619       CP DMV- On Campus        PSS   CP Social- Students  2014-05-21   \n",
       "620   CP DMV- Washington DC        PD9  CP Advocacy- General  2014-06-12   \n",
       "621  CP Northeast- New York        PCW     CP ProDev- Alumnae 2014-06-24   \n",
       "\n",
       "     Participated  Average Age  First Time Attendees  \\\n",
       "617             2           31                     0   \n",
       "618            76           67                     0   \n",
       "619            68           29                     0   \n",
       "620           118           34                     0   \n",
       "621            44           41                     0   \n",
       "\n",
       "     Percentage First Time Attendees  Major Prospects  \\\n",
       "617                              0.0                0   \n",
       "618                              0.0               27   \n",
       "619                              0.0                4   \n",
       "620                              0.0               16   \n",
       "621                              0.0                9   \n",
       "\n",
       "     Percentage Major Prospect          Area            City        Group  \\\n",
       "617                   0.000000        CP DMV       Baltimore    CP Social   \n",
       "618                   0.355263        CP DMV       On Campus    CP Social   \n",
       "619                   0.058824        CP DMV       On Campus    CP Social   \n",
       "620                   0.135593        CP DMV   Washington DC  CP Advocacy   \n",
       "621                   0.204545  CP Northeast        New York    CP ProDev   \n",
       "\n",
       "           Type  \n",
       "617     General  \n",
       "618     Emeriti  \n",
       "619   Students   \n",
       "620    General   \n",
       "621     Alumnae  "
      ]
     },
     "execution_count": 17,
     "metadata": {},
     "output_type": "execute_result"
    }
   ],
   "source": [
    "datafinal.tail()"
   ]
  },
  {
   "cell_type": "code",
   "execution_count": 18,
   "id": "311b433b",
   "metadata": {
    "colab": {
     "base_uri": "https://localhost:8080/",
     "height": 487
    },
    "executionInfo": {
     "elapsed": 281,
     "status": "ok",
     "timestamp": 1639015405391,
     "user": {
      "displayName": "Rajesh Reddy Bogolu",
      "photoUrl": "https://lh3.googleusercontent.com/a/default-user=s64",
      "userId": "04960371768887858754"
     },
     "user_tz": 300
    },
    "id": "311b433b",
    "outputId": "8236f879-29ae-4e92-e65a-9057253c4280"
   },
   "outputs": [
    {
     "data": {
      "text/html": [
       "<div>\n",
       "<style scoped>\n",
       "    .dataframe tbody tr th:only-of-type {\n",
       "        vertical-align: middle;\n",
       "    }\n",
       "\n",
       "    .dataframe tbody tr th {\n",
       "        vertical-align: top;\n",
       "    }\n",
       "\n",
       "    .dataframe thead th {\n",
       "        text-align: right;\n",
       "    }\n",
       "</style>\n",
       "<table border=\"1\" class=\"dataframe\">\n",
       "  <thead>\n",
       "    <tr style=\"text-align: right;\">\n",
       "      <th></th>\n",
       "      <th>Event Name</th>\n",
       "      <th>Activity Code</th>\n",
       "      <th>Activity Description</th>\n",
       "      <th>Location Code</th>\n",
       "      <th>Location Description</th>\n",
       "      <th>Group Code</th>\n",
       "      <th>Group Description</th>\n",
       "      <th>Event Date</th>\n",
       "      <th>Participated</th>\n",
       "      <th>Average Age</th>\n",
       "      <th>First Time Attendees</th>\n",
       "      <th>Percentage First Time Attendees</th>\n",
       "      <th>Major Prospects</th>\n",
       "      <th>Percentage Major Prospect</th>\n",
       "      <th>Area</th>\n",
       "      <th>City</th>\n",
       "      <th>Group</th>\n",
       "      <th>Type</th>\n",
       "    </tr>\n",
       "  </thead>\n",
       "  <tbody>\n",
       "    <tr>\n",
       "      <th>0</th>\n",
       "      <td>Ocean City Summer Party</td>\n",
       "      <td>PEZOC</td>\n",
       "      <td>CP AAE-Ocean City Summer Party</td>\n",
       "      <td>PDES</td>\n",
       "      <td>CP DMV-Eastern Shore</td>\n",
       "      <td>PS9</td>\n",
       "      <td>CP Social-General</td>\n",
       "      <td>2019-07-06</td>\n",
       "      <td>63</td>\n",
       "      <td>52</td>\n",
       "      <td>5</td>\n",
       "      <td>0.079365</td>\n",
       "      <td>12</td>\n",
       "      <td>0.190476</td>\n",
       "      <td>CP DMV</td>\n",
       "      <td>Eastern Shore</td>\n",
       "      <td>CP Social</td>\n",
       "      <td>General</td>\n",
       "    </tr>\n",
       "    <tr>\n",
       "      <th>1</th>\n",
       "      <td>Neurodiversity on Campus and in the Workplace ...</td>\n",
       "      <td>PEAPC</td>\n",
       "      <td>CP AA-Special Topics Webinar</td>\n",
       "      <td>POWE</td>\n",
       "      <td>CP Online-Webinar</td>\n",
       "      <td>PC9</td>\n",
       "      <td>CP ProDev-General</td>\n",
       "      <td>2019-07-10</td>\n",
       "      <td>7</td>\n",
       "      <td>56</td>\n",
       "      <td>1</td>\n",
       "      <td>0.142857</td>\n",
       "      <td>0</td>\n",
       "      <td>0.000000</td>\n",
       "      <td>CP Online</td>\n",
       "      <td>Webinar</td>\n",
       "      <td>CP ProDev</td>\n",
       "      <td>General</td>\n",
       "    </tr>\n",
       "    <tr>\n",
       "      <th>2</th>\n",
       "      <td>Northern NJ Terps TPN</td>\n",
       "      <td>PEANJ</td>\n",
       "      <td>CP AA-Northern NJ Terps TPN</td>\n",
       "      <td>PNNJ</td>\n",
       "      <td>CP Northeast-NNJ</td>\n",
       "      <td>PC9</td>\n",
       "      <td>CP ProDev-General</td>\n",
       "      <td>2019-07-11</td>\n",
       "      <td>28</td>\n",
       "      <td>45</td>\n",
       "      <td>2</td>\n",
       "      <td>0.071429</td>\n",
       "      <td>2</td>\n",
       "      <td>0.071429</td>\n",
       "      <td>CP Northeast</td>\n",
       "      <td>NNJ</td>\n",
       "      <td>CP ProDev</td>\n",
       "      <td>General</td>\n",
       "    </tr>\n",
       "    <tr>\n",
       "      <th>3</th>\n",
       "      <td>Philly Terps: Young Alumni Happy Hour Summer S...</td>\n",
       "      <td>PEAP1</td>\n",
       "      <td>CP AA-Philly Young Alum HH Summer Series</td>\n",
       "      <td>PNPH</td>\n",
       "      <td>CP Northeast-Philadelphia</td>\n",
       "      <td>PS9</td>\n",
       "      <td>CP Social-General</td>\n",
       "      <td>2019-07-11</td>\n",
       "      <td>3</td>\n",
       "      <td>34</td>\n",
       "      <td>0</td>\n",
       "      <td>0.000000</td>\n",
       "      <td>0</td>\n",
       "      <td>0.000000</td>\n",
       "      <td>CP Northeast</td>\n",
       "      <td>Philadelphia</td>\n",
       "      <td>CP Social</td>\n",
       "      <td>General</td>\n",
       "    </tr>\n",
       "    <tr>\n",
       "      <th>4</th>\n",
       "      <td>Philly Terps Suite Night at the Ballpark</td>\n",
       "      <td>PEAP4</td>\n",
       "      <td>CP AA-Philly Terps Ste Night at Ballpark</td>\n",
       "      <td>PNPH</td>\n",
       "      <td>CP Northeast-Philadelphia</td>\n",
       "      <td>PS9</td>\n",
       "      <td>CP Social-General</td>\n",
       "      <td>2019-07-14</td>\n",
       "      <td>22</td>\n",
       "      <td>38</td>\n",
       "      <td>3</td>\n",
       "      <td>0.136364</td>\n",
       "      <td>0</td>\n",
       "      <td>0.000000</td>\n",
       "      <td>CP Northeast</td>\n",
       "      <td>Philadelphia</td>\n",
       "      <td>CP Social</td>\n",
       "      <td>General</td>\n",
       "    </tr>\n",
       "  </tbody>\n",
       "</table>\n",
       "</div>"
      ],
      "text/plain": [
       "                                          Event Name Activity Code  \\\n",
       "0                            Ocean City Summer Party         PEZOC   \n",
       "1  Neurodiversity on Campus and in the Workplace ...         PEAPC   \n",
       "2                              Northern NJ Terps TPN         PEANJ   \n",
       "3  Philly Terps: Young Alumni Happy Hour Summer S...         PEAP1   \n",
       "4           Philly Terps Suite Night at the Ballpark         PEAP4   \n",
       "\n",
       "                       Activity Description Location Code  \\\n",
       "0            CP AAE-Ocean City Summer Party          PDES   \n",
       "1              CP AA-Special Topics Webinar          POWE   \n",
       "2               CP AA-Northern NJ Terps TPN          PNNJ   \n",
       "3  CP AA-Philly Young Alum HH Summer Series          PNPH   \n",
       "4  CP AA-Philly Terps Ste Night at Ballpark          PNPH   \n",
       "\n",
       "        Location Description Group Code  Group Description Event Date  \\\n",
       "0       CP DMV-Eastern Shore        PS9  CP Social-General 2019-07-06   \n",
       "1          CP Online-Webinar        PC9  CP ProDev-General 2019-07-10   \n",
       "2           CP Northeast-NNJ        PC9  CP ProDev-General 2019-07-11   \n",
       "3  CP Northeast-Philadelphia        PS9  CP Social-General 2019-07-11   \n",
       "4  CP Northeast-Philadelphia        PS9  CP Social-General 2019-07-14   \n",
       "\n",
       "   Participated  Average Age  First Time Attendees  \\\n",
       "0            63           52                     5   \n",
       "1             7           56                     1   \n",
       "2            28           45                     2   \n",
       "3             3           34                     0   \n",
       "4            22           38                     3   \n",
       "\n",
       "   Percentage First Time Attendees  Major Prospects  \\\n",
       "0                         0.079365               12   \n",
       "1                         0.142857                0   \n",
       "2                         0.071429                2   \n",
       "3                         0.000000                0   \n",
       "4                         0.136364                0   \n",
       "\n",
       "   Percentage Major Prospect          Area           City      Group     Type  \n",
       "0                   0.190476        CP DMV  Eastern Shore  CP Social  General  \n",
       "1                   0.000000     CP Online        Webinar  CP ProDev  General  \n",
       "2                   0.071429  CP Northeast            NNJ  CP ProDev  General  \n",
       "3                   0.000000  CP Northeast   Philadelphia  CP Social  General  \n",
       "4                   0.000000  CP Northeast   Philadelphia  CP Social  General  "
      ]
     },
     "execution_count": 18,
     "metadata": {},
     "output_type": "execute_result"
    }
   ],
   "source": [
    "datafinal.head(5)"
   ]
  },
  {
   "cell_type": "code",
   "execution_count": 19,
   "id": "86f73433",
   "metadata": {
    "colab": {
     "base_uri": "https://localhost:8080/",
     "height": 300
    },
    "executionInfo": {
     "elapsed": 236,
     "status": "ok",
     "timestamp": 1639015411324,
     "user": {
      "displayName": "Rajesh Reddy Bogolu",
      "photoUrl": "https://lh3.googleusercontent.com/a/default-user=s64",
      "userId": "04960371768887858754"
     },
     "user_tz": 300
    },
    "id": "86f73433",
    "outputId": "2fb77960-43f6-4700-ebcb-58411915c852"
   },
   "outputs": [
    {
     "data": {
      "text/html": [
       "<div>\n",
       "<style scoped>\n",
       "    .dataframe tbody tr th:only-of-type {\n",
       "        vertical-align: middle;\n",
       "    }\n",
       "\n",
       "    .dataframe tbody tr th {\n",
       "        vertical-align: top;\n",
       "    }\n",
       "\n",
       "    .dataframe thead th {\n",
       "        text-align: right;\n",
       "    }\n",
       "</style>\n",
       "<table border=\"1\" class=\"dataframe\">\n",
       "  <thead>\n",
       "    <tr style=\"text-align: right;\">\n",
       "      <th></th>\n",
       "      <th>Participated</th>\n",
       "      <th>Average Age</th>\n",
       "      <th>First Time Attendees</th>\n",
       "      <th>Percentage First Time Attendees</th>\n",
       "      <th>Major Prospects</th>\n",
       "      <th>Percentage Major Prospect</th>\n",
       "    </tr>\n",
       "  </thead>\n",
       "  <tbody>\n",
       "    <tr>\n",
       "      <th>count</th>\n",
       "      <td>622.000000</td>\n",
       "      <td>622.000000</td>\n",
       "      <td>622.000000</td>\n",
       "      <td>622.000000</td>\n",
       "      <td>622.000000</td>\n",
       "      <td>622.000000</td>\n",
       "    </tr>\n",
       "    <tr>\n",
       "      <th>mean</th>\n",
       "      <td>44.803859</td>\n",
       "      <td>40.117363</td>\n",
       "      <td>13.456592</td>\n",
       "      <td>0.276282</td>\n",
       "      <td>5.966238</td>\n",
       "      <td>0.102214</td>\n",
       "    </tr>\n",
       "    <tr>\n",
       "      <th>std</th>\n",
       "      <td>93.165049</td>\n",
       "      <td>9.741459</td>\n",
       "      <td>41.103936</td>\n",
       "      <td>0.242273</td>\n",
       "      <td>14.123466</td>\n",
       "      <td>0.131444</td>\n",
       "    </tr>\n",
       "    <tr>\n",
       "      <th>min</th>\n",
       "      <td>1.000000</td>\n",
       "      <td>19.000000</td>\n",
       "      <td>0.000000</td>\n",
       "      <td>0.000000</td>\n",
       "      <td>0.000000</td>\n",
       "      <td>0.000000</td>\n",
       "    </tr>\n",
       "    <tr>\n",
       "      <th>25%</th>\n",
       "      <td>10.000000</td>\n",
       "      <td>33.000000</td>\n",
       "      <td>1.000000</td>\n",
       "      <td>0.068523</td>\n",
       "      <td>0.000000</td>\n",
       "      <td>0.000000</td>\n",
       "    </tr>\n",
       "    <tr>\n",
       "      <th>50%</th>\n",
       "      <td>20.000000</td>\n",
       "      <td>40.000000</td>\n",
       "      <td>4.000000</td>\n",
       "      <td>0.237327</td>\n",
       "      <td>1.000000</td>\n",
       "      <td>0.058824</td>\n",
       "    </tr>\n",
       "    <tr>\n",
       "      <th>75%</th>\n",
       "      <td>44.750000</td>\n",
       "      <td>46.000000</td>\n",
       "      <td>11.000000</td>\n",
       "      <td>0.444444</td>\n",
       "      <td>5.000000</td>\n",
       "      <td>0.166667</td>\n",
       "    </tr>\n",
       "    <tr>\n",
       "      <th>max</th>\n",
       "      <td>1657.000000</td>\n",
       "      <td>75.000000</td>\n",
       "      <td>702.000000</td>\n",
       "      <td>1.000000</td>\n",
       "      <td>131.000000</td>\n",
       "      <td>0.818182</td>\n",
       "    </tr>\n",
       "  </tbody>\n",
       "</table>\n",
       "</div>"
      ],
      "text/plain": [
       "       Participated  Average Age  First Time Attendees  \\\n",
       "count    622.000000   622.000000            622.000000   \n",
       "mean      44.803859    40.117363             13.456592   \n",
       "std       93.165049     9.741459             41.103936   \n",
       "min        1.000000    19.000000              0.000000   \n",
       "25%       10.000000    33.000000              1.000000   \n",
       "50%       20.000000    40.000000              4.000000   \n",
       "75%       44.750000    46.000000             11.000000   \n",
       "max     1657.000000    75.000000            702.000000   \n",
       "\n",
       "       Percentage First Time Attendees  Major Prospects  \\\n",
       "count                       622.000000       622.000000   \n",
       "mean                          0.276282         5.966238   \n",
       "std                           0.242273        14.123466   \n",
       "min                           0.000000         0.000000   \n",
       "25%                           0.068523         0.000000   \n",
       "50%                           0.237327         1.000000   \n",
       "75%                           0.444444         5.000000   \n",
       "max                           1.000000       131.000000   \n",
       "\n",
       "       Percentage Major Prospect  \n",
       "count                 622.000000  \n",
       "mean                    0.102214  \n",
       "std                     0.131444  \n",
       "min                     0.000000  \n",
       "25%                     0.000000  \n",
       "50%                     0.058824  \n",
       "75%                     0.166667  \n",
       "max                     0.818182  "
      ]
     },
     "execution_count": 19,
     "metadata": {},
     "output_type": "execute_result"
    }
   ],
   "source": [
    "datafinal.describe()"
   ]
  },
  {
   "cell_type": "markdown",
   "id": "0e5a8d30",
   "metadata": {
    "id": "0e5a8d30"
   },
   "source": [
    "### Checking for Missing Values and Outliers "
   ]
  },
  {
   "cell_type": "code",
   "execution_count": 20,
   "id": "0f7f7ec7",
   "metadata": {
    "colab": {
     "base_uri": "https://localhost:8080/"
    },
    "executionInfo": {
     "elapsed": 190,
     "status": "ok",
     "timestamp": 1639015436667,
     "user": {
      "displayName": "Rajesh Reddy Bogolu",
      "photoUrl": "https://lh3.googleusercontent.com/a/default-user=s64",
      "userId": "04960371768887858754"
     },
     "user_tz": 300
    },
    "id": "0f7f7ec7",
    "outputId": "c6a414be-ce9b-4318-aa9d-81f1bd4f73ee"
   },
   "outputs": [
    {
     "data": {
      "text/plain": [
       "(array([], dtype=int64), array([], dtype=int64))"
      ]
     },
     "execution_count": 20,
     "metadata": {},
     "output_type": "execute_result"
    }
   ],
   "source": [
    "np.where(datafinal.isnull() == True)\n",
    "#datafinal.isnull()"
   ]
  },
  {
   "cell_type": "code",
   "execution_count": 21,
   "id": "afcc489d",
   "metadata": {
    "colab": {
     "base_uri": "https://localhost:8080/",
     "height": 282
    },
    "executionInfo": {
     "elapsed": 527,
     "status": "ok",
     "timestamp": 1639015440270,
     "user": {
      "displayName": "Rajesh Reddy Bogolu",
      "photoUrl": "https://lh3.googleusercontent.com/a/default-user=s64",
      "userId": "04960371768887858754"
     },
     "user_tz": 300
    },
    "id": "afcc489d",
    "outputId": "7bf95938-2162-4d6f-a48b-b6aadda6ef70"
   },
   "outputs": [
    {
     "data": {
      "text/plain": [
       "<AxesSubplot:>"
      ]
     },
     "execution_count": 21,
     "metadata": {},
     "output_type": "execute_result"
    },
    {
     "data": {
      "image/png": "[encoded data removed]",
      "text/plain": [
       "<Figure size 432x288 with 1 Axes>"
      ]
     },
     "metadata": {
      "needs_background": "light"
     },
     "output_type": "display_data"
    }
   ],
   "source": [
    "numeric_cols = ['Participated','Average Age', 'First Time Attendees', 'Percentage First Time Attendees' , 'Major Prospects', 'Percentage Major Prospect']\n",
    "datafinal.boxplot(numeric_cols)"
   ]
  },
  {
   "cell_type": "markdown",
   "id": "1a4170cf",
   "metadata": {
    "id": "1a4170cf"
   },
   "source": [
    "### Identify all types of events and locations"
   ]
  },
  {
   "cell_type": "code",
   "execution_count": 22,
   "id": "0f5fe9ed",
   "metadata": {
    "colab": {
     "base_uri": "https://localhost:8080/"
    },
    "executionInfo": {
     "elapsed": 275,
     "status": "ok",
     "timestamp": 1639015502582,
     "user": {
      "displayName": "Rajesh Reddy Bogolu",
      "photoUrl": "https://lh3.googleusercontent.com/a/default-user=s64",
      "userId": "04960371768887858754"
     },
     "user_tz": 300
    },
    "id": "0f5fe9ed",
    "outputId": "ce2f5547-158f-4113-a6d8-a6b91c8449ce"
   },
   "outputs": [
    {
     "data": {
      "text/plain": [
       "array(['PS9', 'PC9', 'PSA', 'PSZ', 'PC4', 'PA9', 'PU9', 'PAG', 'PSY',\n",
       "       'PQB', 'PQL', 'PO9', 'PUB', 'PCZ', 'PSC', 'PD9', 'PQK', 'P99',\n",
       "       'PAZ', 'PVW', 'PCS', 'PAB', 'PUU', 'PAY', 'POB', 'PG9', 'PQX',\n",
       "       'PCW', 'PHM', 'PIZ', 'PSL', 'PSS', 'PH9', 'PMM', 'PST', 'PI9',\n",
       "       'PCC', 'PUL', 'PS3', 'PUZ', 'PM9', 'PC10', 'PC11', 'POO', 'PSK',\n",
       "       'PSB', 'PSO', 'PSX', 'POC'], dtype=object)"
      ]
     },
     "execution_count": 22,
     "metadata": {},
     "output_type": "execute_result"
    }
   ],
   "source": [
    "uniqueValuesCode = datafinal['Group Code'].unique()\n",
    "uniqueValuesCode"
   ]
  },
  {
   "cell_type": "markdown",
   "id": "f747b0cc",
   "metadata": {
    "id": "f747b0cc"
   },
   "source": [
    "### Breaking down the date variable "
   ]
  },
  {
   "cell_type": "code",
   "execution_count": 23,
   "id": "d338b54b",
   "metadata": {
    "colab": {
     "base_uri": "https://localhost:8080/",
     "height": 912
    },
    "executionInfo": {
     "elapsed": 354,
     "status": "ok",
     "timestamp": 1639015508942,
     "user": {
      "displayName": "Rajesh Reddy Bogolu",
      "photoUrl": "https://lh3.googleusercontent.com/a/default-user=s64",
      "userId": "04960371768887858754"
     },
     "user_tz": 300
    },
    "id": "d338b54b",
    "outputId": "ecf3300d-9883-4cb2-896e-f0f37641223a"
   },
   "outputs": [
    {
     "data": {
      "text/html": [
       "<div>\n",
       "<style scoped>\n",
       "    .dataframe tbody tr th:only-of-type {\n",
       "        vertical-align: middle;\n",
       "    }\n",
       "\n",
       "    .dataframe tbody tr th {\n",
       "        vertical-align: top;\n",
       "    }\n",
       "\n",
       "    .dataframe thead th {\n",
       "        text-align: right;\n",
       "    }\n",
       "</style>\n",
       "<table border=\"1\" class=\"dataframe\">\n",
       "  <thead>\n",
       "    <tr style=\"text-align: right;\">\n",
       "      <th></th>\n",
       "      <th>Event Name</th>\n",
       "      <th>Activity Code</th>\n",
       "      <th>Activity Description</th>\n",
       "      <th>Location Code</th>\n",
       "      <th>Location Description</th>\n",
       "      <th>Group Code</th>\n",
       "      <th>Group Description</th>\n",
       "      <th>Event Date</th>\n",
       "      <th>Participated</th>\n",
       "      <th>Average Age</th>\n",
       "      <th>...</th>\n",
       "      <th>Percentage Major Prospect</th>\n",
       "      <th>Area</th>\n",
       "      <th>City</th>\n",
       "      <th>Group</th>\n",
       "      <th>Type</th>\n",
       "      <th>date</th>\n",
       "      <th>year</th>\n",
       "      <th>month</th>\n",
       "      <th>day</th>\n",
       "      <th>dayofweek</th>\n",
       "    </tr>\n",
       "  </thead>\n",
       "  <tbody>\n",
       "    <tr>\n",
       "      <th>0</th>\n",
       "      <td>Ocean City Summer Party</td>\n",
       "      <td>PEZOC</td>\n",
       "      <td>CP AAE-Ocean City Summer Party</td>\n",
       "      <td>PDES</td>\n",
       "      <td>CP DMV-Eastern Shore</td>\n",
       "      <td>PS9</td>\n",
       "      <td>CP Social-General</td>\n",
       "      <td>2019-07-06</td>\n",
       "      <td>63</td>\n",
       "      <td>52</td>\n",
       "      <td>...</td>\n",
       "      <td>0.190476</td>\n",
       "      <td>CP DMV</td>\n",
       "      <td>Eastern Shore</td>\n",
       "      <td>CP Social</td>\n",
       "      <td>General</td>\n",
       "      <td>2019-07-06</td>\n",
       "      <td>2019</td>\n",
       "      <td>7</td>\n",
       "      <td>6</td>\n",
       "      <td>Saturday</td>\n",
       "    </tr>\n",
       "    <tr>\n",
       "      <th>1</th>\n",
       "      <td>Neurodiversity on Campus and in the Workplace ...</td>\n",
       "      <td>PEAPC</td>\n",
       "      <td>CP AA-Special Topics Webinar</td>\n",
       "      <td>POWE</td>\n",
       "      <td>CP Online-Webinar</td>\n",
       "      <td>PC9</td>\n",
       "      <td>CP ProDev-General</td>\n",
       "      <td>2019-07-10</td>\n",
       "      <td>7</td>\n",
       "      <td>56</td>\n",
       "      <td>...</td>\n",
       "      <td>0.000000</td>\n",
       "      <td>CP Online</td>\n",
       "      <td>Webinar</td>\n",
       "      <td>CP ProDev</td>\n",
       "      <td>General</td>\n",
       "      <td>2019-07-10</td>\n",
       "      <td>2019</td>\n",
       "      <td>7</td>\n",
       "      <td>10</td>\n",
       "      <td>Wednesday</td>\n",
       "    </tr>\n",
       "    <tr>\n",
       "      <th>2</th>\n",
       "      <td>Northern NJ Terps TPN</td>\n",
       "      <td>PEANJ</td>\n",
       "      <td>CP AA-Northern NJ Terps TPN</td>\n",
       "      <td>PNNJ</td>\n",
       "      <td>CP Northeast-NNJ</td>\n",
       "      <td>PC9</td>\n",
       "      <td>CP ProDev-General</td>\n",
       "      <td>2019-07-11</td>\n",
       "      <td>28</td>\n",
       "      <td>45</td>\n",
       "      <td>...</td>\n",
       "      <td>0.071429</td>\n",
       "      <td>CP Northeast</td>\n",
       "      <td>NNJ</td>\n",
       "      <td>CP ProDev</td>\n",
       "      <td>General</td>\n",
       "      <td>2019-07-11</td>\n",
       "      <td>2019</td>\n",
       "      <td>7</td>\n",
       "      <td>11</td>\n",
       "      <td>Thursday</td>\n",
       "    </tr>\n",
       "    <tr>\n",
       "      <th>3</th>\n",
       "      <td>Philly Terps: Young Alumni Happy Hour Summer S...</td>\n",
       "      <td>PEAP1</td>\n",
       "      <td>CP AA-Philly Young Alum HH Summer Series</td>\n",
       "      <td>PNPH</td>\n",
       "      <td>CP Northeast-Philadelphia</td>\n",
       "      <td>PS9</td>\n",
       "      <td>CP Social-General</td>\n",
       "      <td>2019-07-11</td>\n",
       "      <td>3</td>\n",
       "      <td>34</td>\n",
       "      <td>...</td>\n",
       "      <td>0.000000</td>\n",
       "      <td>CP Northeast</td>\n",
       "      <td>Philadelphia</td>\n",
       "      <td>CP Social</td>\n",
       "      <td>General</td>\n",
       "      <td>2019-07-11</td>\n",
       "      <td>2019</td>\n",
       "      <td>7</td>\n",
       "      <td>11</td>\n",
       "      <td>Thursday</td>\n",
       "    </tr>\n",
       "    <tr>\n",
       "      <th>4</th>\n",
       "      <td>Philly Terps Suite Night at the Ballpark</td>\n",
       "      <td>PEAP4</td>\n",
       "      <td>CP AA-Philly Terps Ste Night at Ballpark</td>\n",
       "      <td>PNPH</td>\n",
       "      <td>CP Northeast-Philadelphia</td>\n",
       "      <td>PS9</td>\n",
       "      <td>CP Social-General</td>\n",
       "      <td>2019-07-14</td>\n",
       "      <td>22</td>\n",
       "      <td>38</td>\n",
       "      <td>...</td>\n",
       "      <td>0.000000</td>\n",
       "      <td>CP Northeast</td>\n",
       "      <td>Philadelphia</td>\n",
       "      <td>CP Social</td>\n",
       "      <td>General</td>\n",
       "      <td>2019-07-14</td>\n",
       "      <td>2019</td>\n",
       "      <td>7</td>\n",
       "      <td>14</td>\n",
       "      <td>Sunday</td>\n",
       "    </tr>\n",
       "    <tr>\n",
       "      <th>...</th>\n",
       "      <td>...</td>\n",
       "      <td>...</td>\n",
       "      <td>...</td>\n",
       "      <td>...</td>\n",
       "      <td>...</td>\n",
       "      <td>...</td>\n",
       "      <td>...</td>\n",
       "      <td>...</td>\n",
       "      <td>...</td>\n",
       "      <td>...</td>\n",
       "      <td>...</td>\n",
       "      <td>...</td>\n",
       "      <td>...</td>\n",
       "      <td>...</td>\n",
       "      <td>...</td>\n",
       "      <td>...</td>\n",
       "      <td>...</td>\n",
       "      <td>...</td>\n",
       "      <td>...</td>\n",
       "      <td>...</td>\n",
       "      <td>...</td>\n",
       "    </tr>\n",
       "    <tr>\n",
       "      <th>617</th>\n",
       "      <td>Baltimore Orioles Bullpen Pregame</td>\n",
       "      <td>PEAOB</td>\n",
       "      <td>CP AA-Baltimore Orioles Bullpen Pregame</td>\n",
       "      <td>PDBA</td>\n",
       "      <td>CP DMV- Baltimore</td>\n",
       "      <td>PS9</td>\n",
       "      <td>CP Social- General</td>\n",
       "      <td>2014-05-13</td>\n",
       "      <td>2</td>\n",
       "      <td>31</td>\n",
       "      <td>...</td>\n",
       "      <td>0.000000</td>\n",
       "      <td>CP DMV</td>\n",
       "      <td>Baltimore</td>\n",
       "      <td>CP Social</td>\n",
       "      <td>General</td>\n",
       "      <td>2014-05-13</td>\n",
       "      <td>2014</td>\n",
       "      <td>5</td>\n",
       "      <td>13</td>\n",
       "      <td>Tuesday</td>\n",
       "    </tr>\n",
       "    <tr>\n",
       "      <th>618</th>\n",
       "      <td>50th Reunion</td>\n",
       "      <td>PEZ50</td>\n",
       "      <td>CP AAE-50th Reunion</td>\n",
       "      <td>PDON</td>\n",
       "      <td>CP DMV- On Campus</td>\n",
       "      <td>PS3</td>\n",
       "      <td>CP Social- Emeriti</td>\n",
       "      <td>2014-05-21</td>\n",
       "      <td>76</td>\n",
       "      <td>67</td>\n",
       "      <td>...</td>\n",
       "      <td>0.355263</td>\n",
       "      <td>CP DMV</td>\n",
       "      <td>On Campus</td>\n",
       "      <td>CP Social</td>\n",
       "      <td>Emeriti</td>\n",
       "      <td>2014-05-21</td>\n",
       "      <td>2014</td>\n",
       "      <td>5</td>\n",
       "      <td>21</td>\n",
       "      <td>Wednesday</td>\n",
       "    </tr>\n",
       "    <tr>\n",
       "      <th>619</th>\n",
       "      <td>Ring Ceremony</td>\n",
       "      <td>PEZRC</td>\n",
       "      <td>CP AAE-Ring Ceremony</td>\n",
       "      <td>PDON</td>\n",
       "      <td>CP DMV- On Campus</td>\n",
       "      <td>PSS</td>\n",
       "      <td>CP Social- Students</td>\n",
       "      <td>2014-05-21</td>\n",
       "      <td>68</td>\n",
       "      <td>29</td>\n",
       "      <td>...</td>\n",
       "      <td>0.058824</td>\n",
       "      <td>CP DMV</td>\n",
       "      <td>On Campus</td>\n",
       "      <td>CP Social</td>\n",
       "      <td>Students</td>\n",
       "      <td>2014-05-21</td>\n",
       "      <td>2014</td>\n",
       "      <td>5</td>\n",
       "      <td>21</td>\n",
       "      <td>Wednesday</td>\n",
       "    </tr>\n",
       "    <tr>\n",
       "      <th>620</th>\n",
       "      <td>Terps on the Hill</td>\n",
       "      <td>PEZTH</td>\n",
       "      <td>CP AAE-Terps on the Hill</td>\n",
       "      <td>PDDC</td>\n",
       "      <td>CP DMV- Washington DC</td>\n",
       "      <td>PD9</td>\n",
       "      <td>CP Advocacy- General</td>\n",
       "      <td>2014-06-12</td>\n",
       "      <td>118</td>\n",
       "      <td>34</td>\n",
       "      <td>...</td>\n",
       "      <td>0.135593</td>\n",
       "      <td>CP DMV</td>\n",
       "      <td>Washington DC</td>\n",
       "      <td>CP Advocacy</td>\n",
       "      <td>General</td>\n",
       "      <td>2014-06-12</td>\n",
       "      <td>2014</td>\n",
       "      <td>6</td>\n",
       "      <td>12</td>\n",
       "      <td>Thursday</td>\n",
       "    </tr>\n",
       "    <tr>\n",
       "      <th>621</th>\n",
       "      <td>NY Terps Alumnae Networking Dinner</td>\n",
       "      <td>PEANA</td>\n",
       "      <td>CP AA-NY Terps Alumnae Networking Dinner</td>\n",
       "      <td>PNNY</td>\n",
       "      <td>CP Northeast- New York</td>\n",
       "      <td>PCW</td>\n",
       "      <td>CP ProDev- Alumnae</td>\n",
       "      <td>2014-06-24</td>\n",
       "      <td>44</td>\n",
       "      <td>41</td>\n",
       "      <td>...</td>\n",
       "      <td>0.204545</td>\n",
       "      <td>CP Northeast</td>\n",
       "      <td>New York</td>\n",
       "      <td>CP ProDev</td>\n",
       "      <td>Alumnae</td>\n",
       "      <td>2014-06-24</td>\n",
       "      <td>2014</td>\n",
       "      <td>6</td>\n",
       "      <td>24</td>\n",
       "      <td>Tuesday</td>\n",
       "    </tr>\n",
       "  </tbody>\n",
       "</table>\n",
       "<p>622 rows × 23 columns</p>\n",
       "</div>"
      ],
      "text/plain": [
       "                                            Event Name Activity Code  \\\n",
       "0                              Ocean City Summer Party         PEZOC   \n",
       "1    Neurodiversity on Campus and in the Workplace ...         PEAPC   \n",
       "2                                Northern NJ Terps TPN         PEANJ   \n",
       "3    Philly Terps: Young Alumni Happy Hour Summer S...         PEAP1   \n",
       "4             Philly Terps Suite Night at the Ballpark         PEAP4   \n",
       "..                                                 ...           ...   \n",
       "617                 Baltimore Orioles Bullpen Pregame          PEAOB   \n",
       "618                                      50th Reunion          PEZ50   \n",
       "619                                     Ring Ceremony          PEZRC   \n",
       "620                                  Terps on the Hill         PEZTH   \n",
       "621                NY Terps Alumnae Networking Dinner          PEANA   \n",
       "\n",
       "                         Activity Description Location Code  \\\n",
       "0              CP AAE-Ocean City Summer Party          PDES   \n",
       "1                CP AA-Special Topics Webinar          POWE   \n",
       "2                 CP AA-Northern NJ Terps TPN          PNNJ   \n",
       "3    CP AA-Philly Young Alum HH Summer Series          PNPH   \n",
       "4    CP AA-Philly Terps Ste Night at Ballpark          PNPH   \n",
       "..                                        ...           ...   \n",
       "617   CP AA-Baltimore Orioles Bullpen Pregame          PDBA   \n",
       "618                       CP AAE-50th Reunion          PDON   \n",
       "619                      CP AAE-Ring Ceremony          PDON   \n",
       "620                  CP AAE-Terps on the Hill          PDDC   \n",
       "621  CP AA-NY Terps Alumnae Networking Dinner          PNNY   \n",
       "\n",
       "          Location Description Group Code      Group Description Event Date  \\\n",
       "0         CP DMV-Eastern Shore        PS9      CP Social-General 2019-07-06   \n",
       "1            CP Online-Webinar        PC9      CP ProDev-General 2019-07-10   \n",
       "2             CP Northeast-NNJ        PC9      CP ProDev-General 2019-07-11   \n",
       "3    CP Northeast-Philadelphia        PS9      CP Social-General 2019-07-11   \n",
       "4    CP Northeast-Philadelphia        PS9      CP Social-General 2019-07-14   \n",
       "..                         ...        ...                    ...        ...   \n",
       "617          CP DMV- Baltimore        PS9     CP Social- General 2014-05-13   \n",
       "618          CP DMV- On Campus        PS3     CP Social- Emeriti 2014-05-21   \n",
       "619          CP DMV- On Campus        PSS   CP Social- Students  2014-05-21   \n",
       "620      CP DMV- Washington DC        PD9  CP Advocacy- General  2014-06-12   \n",
       "621     CP Northeast- New York        PCW     CP ProDev- Alumnae 2014-06-24   \n",
       "\n",
       "     Participated  Average Age  ...  Percentage Major Prospect          Area  \\\n",
       "0              63           52  ...                   0.190476        CP DMV   \n",
       "1               7           56  ...                   0.000000     CP Online   \n",
       "2              28           45  ...                   0.071429  CP Northeast   \n",
       "3               3           34  ...                   0.000000  CP Northeast   \n",
       "4              22           38  ...                   0.000000  CP Northeast   \n",
       "..            ...          ...  ...                        ...           ...   \n",
       "617             2           31  ...                   0.000000        CP DMV   \n",
       "618            76           67  ...                   0.355263        CP DMV   \n",
       "619            68           29  ...                   0.058824        CP DMV   \n",
       "620           118           34  ...                   0.135593        CP DMV   \n",
       "621            44           41  ...                   0.204545  CP Northeast   \n",
       "\n",
       "               City        Group        Type       date  year month day  \\\n",
       "0     Eastern Shore    CP Social     General 2019-07-06  2019     7   6   \n",
       "1           Webinar    CP ProDev     General 2019-07-10  2019     7  10   \n",
       "2               NNJ    CP ProDev     General 2019-07-11  2019     7  11   \n",
       "3      Philadelphia    CP Social     General 2019-07-11  2019     7  11   \n",
       "4      Philadelphia    CP Social     General 2019-07-14  2019     7  14   \n",
       "..              ...          ...         ...        ...   ...   ...  ..   \n",
       "617       Baltimore    CP Social     General 2014-05-13  2014     5  13   \n",
       "618       On Campus    CP Social     Emeriti 2014-05-21  2014     5  21   \n",
       "619       On Campus    CP Social   Students  2014-05-21  2014     5  21   \n",
       "620   Washington DC  CP Advocacy    General  2014-06-12  2014     6  12   \n",
       "621        New York    CP ProDev     Alumnae 2014-06-24  2014     6  24   \n",
       "\n",
       "     dayofweek  \n",
       "0     Saturday  \n",
       "1    Wednesday  \n",
       "2     Thursday  \n",
       "3     Thursday  \n",
       "4       Sunday  \n",
       "..         ...  \n",
       "617    Tuesday  \n",
       "618  Wednesday  \n",
       "619  Wednesday  \n",
       "620   Thursday  \n",
       "621    Tuesday  \n",
       "\n",
       "[622 rows x 23 columns]"
      ]
     },
     "execution_count": 23,
     "metadata": {},
     "output_type": "execute_result"
    }
   ],
   "source": [
    "#Create new dataframe with additional variables \n",
    "\n",
    "datafinal['date'] = pd.to_datetime(datafinal['Event Date'],format='%Y%m%d')\n",
    "datafinal['year'] = pd.DatetimeIndex(datafinal['date']).year\n",
    "datafinal['month'] = pd.DatetimeIndex(datafinal['date']).month\n",
    "datafinal['day'] = pd.DatetimeIndex(datafinal['date']).day\n",
    "datafinal['dayofweek'] = pd.DatetimeIndex(datafinal['date']).day_name()\n",
    "datafinal\n",
    "\n",
    "#Code used : https://www.codegrepper.com/code-examples/python/separate+year+and+month+from+date+in+python\n"
   ]
  },
  {
   "cell_type": "code",
   "execution_count": 24,
   "id": "b6f9ed73",
   "metadata": {
    "colab": {
     "base_uri": "https://localhost:8080/"
    },
    "executionInfo": {
     "elapsed": 481,
     "status": "ok",
     "timestamp": 1639015518861,
     "user": {
      "displayName": "Rajesh Reddy Bogolu",
      "photoUrl": "https://lh3.googleusercontent.com/a/default-user=s64",
      "userId": "04960371768887858754"
     },
     "user_tz": 300
    },
    "id": "b6f9ed73",
    "outputId": "cda4dce5-3ddc-4c1a-acc4-99f72365fa83"
   },
   "outputs": [
    {
     "data": {
      "text/plain": [
       "Event Name                                 object\n",
       "Activity Code                              object\n",
       "Activity Description                       object\n",
       "Location Code                              object\n",
       "Location Description                       object\n",
       "Group Code                                 object\n",
       "Group Description                          object\n",
       "Event Date                         datetime64[ns]\n",
       "Participated                                int64\n",
       "Average Age                                 int64\n",
       "First Time Attendees                        int64\n",
       "Percentage First Time Attendees           float64\n",
       "Major Prospects                             int64\n",
       "Percentage Major Prospect                 float64\n",
       "Area                                       object\n",
       "City                                       object\n",
       "Group                                      object\n",
       "Type                                       object\n",
       "date                               datetime64[ns]\n",
       "year                                        int64\n",
       "month                                       int64\n",
       "day                                         int64\n",
       "dayofweek                                  object\n",
       "dtype: object"
      ]
     },
     "execution_count": 24,
     "metadata": {},
     "output_type": "execute_result"
    }
   ],
   "source": [
    "datafinal.dtypes"
   ]
  },
  {
   "cell_type": "markdown",
   "id": "1611d080",
   "metadata": {
    "id": "1611d080"
   },
   "source": [
    "### Simple Data Analysis "
   ]
  },
  {
   "cell_type": "code",
   "execution_count": 25,
   "id": "bfc9cbb9",
   "metadata": {
    "colab": {
     "base_uri": "https://localhost:8080/",
     "height": 485
    },
    "executionInfo": {
     "elapsed": 189,
     "status": "ok",
     "timestamp": 1639015538352,
     "user": {
      "displayName": "Rajesh Reddy Bogolu",
      "photoUrl": "https://lh3.googleusercontent.com/a/default-user=s64",
      "userId": "04960371768887858754"
     },
     "user_tz": 300
    },
    "id": "bfc9cbb9",
    "outputId": "2ec7d21f-ed63-4df7-92c5-716d2e8961ac"
   },
   "outputs": [
    {
     "name": "stdout",
     "output_type": "stream",
     "text": [
      "year\n",
      "2013      3\n",
      "2014     54\n",
      "2015     81\n",
      "2016     59\n",
      "2017     45\n",
      "2018    196\n",
      "2019    184\n",
      "Name: Event Name, dtype: int64\n"
     ]
    },
    {
     "data": {
      "text/plain": [
       "Text(0, 0.5, 'Number of Events')"
      ]
     },
     "execution_count": 25,
     "metadata": {},
     "output_type": "execute_result"
    },
    {
     "data": {
      "image/png": "[encoded data removed]",
      "text/plain": [
       "<Figure size 432x288 with 1 Axes>"
      ]
     },
     "metadata": {
      "needs_background": "light"
     },
     "output_type": "display_data"
    }
   ],
   "source": [
    "# Analysis 1. Number of Events by year\n",
    "countyr = datafinal.groupby(\"year\")['Event Name'].agg('count')\n",
    "print(countyr)\n",
    "\n",
    "eventsy = datafinal['year'].value_counts()\n",
    "eventsy.plot(kind='bar')\n",
    "\n",
    "plt.title('Number of Events per year')\n",
    "plt.xlabel('Years')\n",
    "plt.ylabel('Number of Events')"
   ]
  },
  {
   "cell_type": "code",
   "execution_count": 26,
   "id": "1e9e43d3",
   "metadata": {
    "colab": {
     "base_uri": "https://localhost:8080/",
     "height": 558
    },
    "executionInfo": {
     "elapsed": 215,
     "status": "ok",
     "timestamp": 1639015603630,
     "user": {
      "displayName": "Rajesh Reddy Bogolu",
      "photoUrl": "https://lh3.googleusercontent.com/a/default-user=s64",
      "userId": "04960371768887858754"
     },
     "user_tz": 300
    },
    "id": "1e9e43d3",
    "outputId": "d912ddba-683f-426a-8849-ce9313c1bbe1"
   },
   "outputs": [
    {
     "name": "stdout",
     "output_type": "stream",
     "text": [
      "month\n",
      "1     36\n",
      "2     66\n",
      "3     75\n",
      "4     83\n",
      "5     37\n",
      "6     38\n",
      "7     19\n",
      "8     29\n",
      "9     54\n",
      "10    82\n",
      "11    66\n",
      "12    37\n",
      "Name: Event Name, dtype: int64\n"
     ]
    },
    {
     "data": {
      "text/plain": [
       "Text(0, 0.5, 'Number of Events')"
      ]
     },
     "execution_count": 26,
     "metadata": {},
     "output_type": "execute_result"
    },
    {
     "data": {
      "image/png": "[encoded data removed]",
      "text/plain": [
       "<Figure size 432x288 with 1 Axes>"
      ]
     },
     "metadata": {
      "needs_background": "light"
     },
     "output_type": "display_data"
    }
   ],
   "source": [
    "# Analysis 3. Count by month\n",
    "countm = datafinal.groupby(\"month\")['Event Name'].agg('count')\n",
    "print(countm)\n",
    "\n",
    "eventsm = datafinal['month'].value_counts()\n",
    "eventsm.plot(kind='bar')\n",
    "\n",
    "plt.title('Number of Events per month')\n",
    "plt.xlabel('Month')\n",
    "plt.ylabel('Number of Events')"
   ]
  },
  {
   "cell_type": "code",
   "execution_count": 27,
   "id": "aa9593b5",
   "metadata": {
    "executionInfo": {
     "elapsed": 201,
     "status": "ok",
     "timestamp": 1639015610265,
     "user": {
      "displayName": "Rajesh Reddy Bogolu",
      "photoUrl": "https://lh3.googleusercontent.com/a/default-user=s64",
      "userId": "04960371768887858754"
     },
     "user_tz": 300
    },
    "id": "aa9593b5"
   },
   "outputs": [],
   "source": [
    "datafinal.replace(\"Norhteast\", \"Northeast\", inplace=True)"
   ]
  },
  {
   "cell_type": "code",
   "execution_count": 28,
   "id": "ebd98788",
   "metadata": {
    "colab": {
     "base_uri": "https://localhost:8080/",
     "height": 675
    },
    "executionInfo": {
     "elapsed": 304,
     "status": "ok",
     "timestamp": 1639015615801,
     "user": {
      "displayName": "Rajesh Reddy Bogolu",
      "photoUrl": "https://lh3.googleusercontent.com/a/default-user=s64",
      "userId": "04960371768887858754"
     },
     "user_tz": 300
    },
    "id": "ebd98788",
    "outputId": "92398e95-f273-44c8-b315-5bb3f1b7bce1"
   },
   "outputs": [
    {
     "name": "stdout",
     "output_type": "stream",
     "text": [
      "Group\n",
      "CP Advocacy        14\n",
      "CP Affinity         7\n",
      "CP Athletics      138\n",
      "CP Campaign         3\n",
      "CP Career           1\n",
      "CP Cultivation      8\n",
      "CP Cultural         8\n",
      "CP D&I              1\n",
      "CP DMV              1\n",
      "CP General          3\n",
      "CP Membership       4\n",
      "CP ProDev         138\n",
      "CP Service         31\n",
      "CP Social         244\n",
      "CP Stewardship     21\n",
      "Name: Event Name, dtype: int64\n"
     ]
    },
    {
     "data": {
      "text/plain": [
       "Text(0, 0.5, 'Number of Events')"
      ]
     },
     "execution_count": 28,
     "metadata": {},
     "output_type": "execute_result"
    },
    {
     "data": {
      "image/png": "[encoded data removed]",
      "text/plain": [
       "<Figure size 576x288 with 1 Axes>"
      ]
     },
     "metadata": {
      "needs_background": "light"
     },
     "output_type": "display_data"
    }
   ],
   "source": [
    "counttype = datafinal.groupby(\"Group\")['Event Name'].agg('count')\n",
    "print(counttype)\n",
    "\n",
    "eventsT = datafinal['Group'].value_counts()\n",
    "eventsT.plot(kind='bar', figsize=(8,4))\n",
    "\n",
    "plt.title('Number of Events per event type')\n",
    "plt.xlabel('Event type')\n",
    "plt.ylabel('Number of Events')"
   ]
  },
  {
   "cell_type": "code",
   "execution_count": 29,
   "id": "98e8bfc8",
   "metadata": {
    "colab": {
     "base_uri": "https://localhost:8080/",
     "height": 591
    },
    "executionInfo": {
     "elapsed": 180,
     "status": "ok",
     "timestamp": 1639015621416,
     "user": {
      "displayName": "Rajesh Reddy Bogolu",
      "photoUrl": "https://lh3.googleusercontent.com/a/default-user=s64",
      "userId": "04960371768887858754"
     },
     "user_tz": 300
    },
    "id": "98e8bfc8",
    "outputId": "b763e784-6ea1-476e-d84c-b8dfe420087b"
   },
   "outputs": [
    {
     "name": "stdout",
     "output_type": "stream",
     "text": [
      "Area\n",
      "CP DC                 2\n",
      "CP DMV              350\n",
      "CP International      2\n",
      "CP Northeast         79\n",
      "CP Online            42\n",
      "CP Social             1\n",
      "CP Southeast         43\n",
      "CP USA                4\n",
      "CP West              10\n",
      "CP West Coast        89\n",
      "Name: Event Name, dtype: int64\n"
     ]
    },
    {
     "data": {
      "text/plain": [
       "Text(0, 0.5, 'Number of Events')"
      ]
     },
     "execution_count": 29,
     "metadata": {},
     "output_type": "execute_result"
    },
    {
     "data": {
      "image/png": "[encoded data removed]",
      "text/plain": [
       "<Figure size 576x288 with 1 Axes>"
      ]
     },
     "metadata": {
      "needs_background": "light"
     },
     "output_type": "display_data"
    }
   ],
   "source": [
    "countplace = datafinal.groupby(\"Area\")['Event Name'].agg('count')\n",
    "print(countplace)\n",
    "\n",
    "eventsP = datafinal['Area'].value_counts()\n",
    "eventsP.plot(kind='bar', figsize=(8,4),color='b')\n",
    "\n",
    "plt.title('Number of Events per Location')\n",
    "plt.xlabel('Locations')\n",
    "plt.ylabel('Number of Events')"
   ]
  },
  {
   "cell_type": "code",
   "execution_count": 30,
   "id": "6e5aa0ef",
   "metadata": {
    "colab": {
     "base_uri": "https://localhost:8080/",
     "height": 70
    },
    "executionInfo": {
     "elapsed": 310,
     "status": "ok",
     "timestamp": 1639015631472,
     "user": {
      "displayName": "Rajesh Reddy Bogolu",
      "photoUrl": "https://lh3.googleusercontent.com/a/default-user=s64",
      "userId": "04960371768887858754"
     },
     "user_tz": 300
    },
    "id": "6e5aa0ef",
    "outputId": "d3322e45-6f66-4ac9-858e-78519623621f"
   },
   "outputs": [
    {
     "data": {
      "text/plain": [
       "\"plt.boxplot([three_sigma(data_DMV['First Time Attendees']),three_sigma(data_Campus['First Time Attendees']),three_sigma(data_Westcoast['First Time Attendees']),three_sigma(data_Southeast['First Time Attendees']),three_sigma(data_Northeast['First Time Attendees']),three_sigma(data_Online['First Time Attendees'])],labels=['DMV','Campus','Westcoast','Southeast','Northeast','Online'])\\nplt.ylabel('First Time Attendees')\\nplt.show()\\n\""
      ]
     },
     "execution_count": 30,
     "metadata": {},
     "output_type": "execute_result"
    }
   ],
   "source": [
    "\"\"\"plt.boxplot([three_sigma(data_DMV['First Time Attendees']),three_sigma(data_Campus['First Time Attendees']),three_sigma(data_Westcoast['First Time Attendees']),three_sigma(data_Southeast['First Time Attendees']),three_sigma(data_Northeast['First Time Attendees']),three_sigma(data_Online['First Time Attendees'])],labels=['DMV','Campus','Westcoast','Southeast','Northeast','Online'])\n",
    "plt.ylabel('First Time Attendees')\n",
    "plt.show()\n",
    "\"\"\""
   ]
  },
  {
   "cell_type": "code",
   "execution_count": 31,
   "id": "ad0b6a50",
   "metadata": {
    "colab": {
     "base_uri": "https://localhost:8080/"
    },
    "executionInfo": {
     "elapsed": 652,
     "status": "ok",
     "timestamp": 1639015637428,
     "user": {
      "displayName": "Rajesh Reddy Bogolu",
      "photoUrl": "https://lh3.googleusercontent.com/a/default-user=s64",
      "userId": "04960371768887858754"
     },
     "user_tz": 300
    },
    "id": "ad0b6a50",
    "outputId": "eb8f5087-37b7-4f15-b791-45b028d6417c"
   },
   "outputs": [
    {
     "name": "stdout",
     "output_type": "stream",
     "text": [
      "year\n",
      "2013    209.000000\n",
      "2014     51.092593\n",
      "2015     54.518519\n",
      "2016     61.610169\n",
      "2017     63.200000\n",
      "2018     36.489796\n",
      "2019     34.972826\n",
      "Name: Participated, dtype: float64\n"
     ]
    }
   ],
   "source": [
    "# Analysis 6. average people of year\n",
    "meanyr = datafinal.groupby(\"year\")['Participated'].agg('mean')\n",
    "print(meanyr)"
   ]
  },
  {
   "cell_type": "code",
   "execution_count": 32,
   "id": "9c5b435b",
   "metadata": {
    "colab": {
     "base_uri": "https://localhost:8080/",
     "height": 1000
    },
    "executionInfo": {
     "elapsed": 304,
     "status": "ok",
     "timestamp": 1639015641994,
     "user": {
      "displayName": "Rajesh Reddy Bogolu",
      "photoUrl": "https://lh3.googleusercontent.com/a/default-user=s64",
      "userId": "04960371768887858754"
     },
     "user_tz": 300
    },
    "id": "9c5b435b",
    "outputId": "291c5964-c788-4696-bc80-31880319b393"
   },
   "outputs": [
    {
     "name": "stdout",
     "output_type": "stream",
     "text": [
      "           First Time Attendees\n",
      "dayofweek                      \n",
      "Monday                16.974359\n",
      "Tuesday               19.111111\n",
      "Wednesday             10.140000\n",
      "Thursday              10.898148\n",
      "Friday                16.916667\n",
      "Saturday              11.628571\n",
      "Sunday                16.175000\n",
      "           Percentage First Time Attendees\n",
      "dayofweek                                 \n",
      "Monday                            0.258892\n",
      "Tuesday                           0.273882\n",
      "Wednesday                         0.268903\n",
      "Thursday                          0.275011\n",
      "Friday                            0.279918\n",
      "Saturday                          0.285137\n",
      "Sunday                            0.276311\n",
      "           Major Prospects\n",
      "dayofweek                 \n",
      "Monday            3.769231\n",
      "Tuesday           4.055556\n",
      "Wednesday         5.820000\n",
      "Thursday          7.203704\n",
      "Friday           12.604167\n",
      "Saturday          5.674286\n",
      "Sunday            3.925000\n",
      "           Major Prospects\n",
      "dayofweek                 \n",
      "Monday            3.769231\n",
      "Tuesday           4.055556\n",
      "Wednesday         5.820000\n",
      "Thursday          7.203704\n",
      "Friday           12.604167\n",
      "Saturday          5.674286\n",
      "Sunday            3.925000\n"
     ]
    },
    {
     "data": {
      "image/png": "[encoded data removed]",
      "text/plain": [
       "<Figure size 1080x504 with 4 Axes>"
      ]
     },
     "metadata": {
      "needs_background": "light"
     },
     "output_type": "display_data"
    }
   ],
   "source": [
    "#order by Monday through Sunday\n",
    "from pandas.api.types import CategoricalDtype\n",
    "order = CategoricalDtype(['Monday', 'Tuesday', 'Wednesday', 'Thursday', 'Friday', 'Saturday', 'Sunday'], ordered=True)\n",
    "datafinal['dayofweek'] =datafinal['dayofweek'].astype(order)\n",
    "\n",
    "GroupbyDayFT = datafinal.groupby(\"dayofweek\", as_index=True)[[\"First Time Attendees\"]].mean()\n",
    "print(GroupbyDayFT)\n",
    "GroupbyDayPFT = datafinal.groupby(\"dayofweek\", as_index=True)[[\"Percentage First Time Attendees\"]].mean()\n",
    "print(GroupbyDayPFT)\n",
    "GroupbyDayMJ = datafinal.groupby(\"dayofweek\", as_index=True)[[\"Major Prospects\"]].mean()\n",
    "print(GroupbyDayMJ)\n",
    "GroupbyDayPMJ = datafinal.groupby(\"dayofweek\", as_index=True)[[\"Percentage Major Prospect\"]].mean()\n",
    "print(GroupbyDayMJ)\n",
    "\n",
    "#Plotting \n",
    "plt.figure(figsize=(15,7))\n",
    "plt.subplot(221)\n",
    "sns.barplot(x=\"dayofweek\", y=\"First Time Attendees\", data=datafinal, estimator=np.mean, ci=None, color='b')\n",
    "sns.set(rc = {'figure.figsize':(15,8)})\n",
    "plt.subplot(223)\n",
    "sns.barplot(x=\"dayofweek\", y=\"Percentage First Time Attendees\", data=datafinal, estimator=np.mean, ci=None, color='b')\n",
    "sns.set(rc = {'figure.figsize':(15,8)})\n",
    "plt.subplot(222)\n",
    "sns.barplot(x=\"dayofweek\", y=\"Major Prospects\", data=datafinal, estimator=np.mean, ci=None, color='r')\n",
    "sns.set(rc = {'figure.figsize':(15,8)})\n",
    "plt.subplot(224)\n",
    "sns.barplot(x=\"dayofweek\", y=\"Percentage Major Prospect\", data=datafinal, estimator=np.mean, ci=None, color='r')\n",
    "sns.set(rc = {'figure.figsize':(15,8)})\n",
    "\n",
    "plt.show()"
   ]
  },
  {
   "cell_type": "code",
   "execution_count": 33,
   "id": "2e177130",
   "metadata": {
    "colab": {
     "base_uri": "https://localhost:8080/",
     "height": 880
    },
    "executionInfo": {
     "elapsed": 1310,
     "status": "ok",
     "timestamp": 1639015773233,
     "user": {
      "displayName": "Rajesh Reddy Bogolu",
      "photoUrl": "https://lh3.googleusercontent.com/a/default-user=s64",
      "userId": "04960371768887858754"
     },
     "user_tz": 300
    },
    "id": "2e177130",
    "outputId": "b88da199-4fec-40b0-fa69-7fa4611735f2"
   },
   "outputs": [
    {
     "name": "stdout",
     "output_type": "stream",
     "text": [
      "       First Time Attendees\n",
      "month                      \n",
      "1                  7.722222\n",
      "2                  8.787879\n",
      "3                  9.106667\n",
      "4                 19.397590\n",
      "5                 23.459459\n",
      "6                 10.500000\n",
      "7                 43.368421\n",
      "8                  8.068966\n",
      "9                 12.611111\n",
      "10                13.426829\n",
      "11                 9.454545\n",
      "12                13.189189\n",
      "       Major Prospects\n",
      "month                 \n",
      "1             2.444444\n",
      "2             4.681818\n",
      "3             3.960000\n",
      "4             7.542169\n",
      "5             7.918919\n",
      "6             5.815789\n",
      "7             8.684211\n",
      "8             1.827586\n",
      "9             6.277778\n",
      "10            8.792683\n",
      "11            4.454545\n",
      "12            8.243243\n"
     ]
    },
    {
     "data": {
      "image/png": "[encoded data removed]",
      "text/plain": [
       "<Figure size 1080x432 with 4 Axes>"
      ]
     },
     "metadata": {},
     "output_type": "display_data"
    }
   ],
   "source": [
    "GroupbyMonthFT = datafinal.groupby(\"month\", as_index=True)[[\"First Time Attendees\"]].mean()\n",
    "print(GroupbyMonthFT)\n",
    "\n",
    "GroupbyMonthMJ = datafinal.groupby(\"month\", as_index=True)[[\"Major Prospects\"]].mean()\n",
    "print(GroupbyMonthMJ)\n",
    "\n",
    "#Plotting \n",
    "plt.figure(figsize=(15,6))\n",
    "plt.subplot(221)\n",
    "sns.barplot(x=\"month\", y=\"First Time Attendees\", data=datafinal, estimator=np.mean, ci=None, color='b')\n",
    "sns.set(rc = {'figure.figsize':(15,8)})\n",
    "plt.subplot(223)\n",
    "sns.barplot(x=\"month\", y=\"Percentage First Time Attendees\", data=datafinal, estimator=np.mean, ci=None, color='b')\n",
    "sns.set(rc = {'figure.figsize':(15,8)})\n",
    "plt.subplot(222)\n",
    "sns.barplot(x=\"month\", y=\"Major Prospects\", data=datafinal, estimator=np.mean, ci=None, color='r')\n",
    "sns.set(rc = {'figure.figsize':(15,8)})\n",
    "plt.subplot(224)\n",
    "sns.barplot(x=\"month\", y=\"Percentage Major Prospect\", data=datafinal, estimator=np.mean, ci=None, color='r')\n",
    "sns.set(rc = {'figure.figsize':(15,8)})\n",
    "\n",
    "\n",
    "plt.show()"
   ]
  },
  {
   "cell_type": "markdown",
   "id": "6673d852",
   "metadata": {
    "id": "6673d852"
   },
   "source": [
    "### Generating A few Pivot Tables"
   ]
  },
  {
   "cell_type": "code",
   "execution_count": 34,
   "id": "2f241997",
   "metadata": {
    "colab": {
     "base_uri": "https://localhost:8080/",
     "height": 300
    },
    "executionInfo": {
     "elapsed": 233,
     "status": "ok",
     "timestamp": 1639015783547,
     "user": {
      "displayName": "Rajesh Reddy Bogolu",
      "photoUrl": "https://lh3.googleusercontent.com/a/default-user=s64",
      "userId": "04960371768887858754"
     },
     "user_tz": 300
    },
    "id": "2f241997",
    "outputId": "5f970784-4155-4aae-816f-2e979bc30a5e"
   },
   "outputs": [
    {
     "data": {
      "text/html": [
       "<div>\n",
       "<style scoped>\n",
       "    .dataframe tbody tr th:only-of-type {\n",
       "        vertical-align: middle;\n",
       "    }\n",
       "\n",
       "    .dataframe tbody tr th {\n",
       "        vertical-align: top;\n",
       "    }\n",
       "\n",
       "    .dataframe thead th {\n",
       "        text-align: right;\n",
       "    }\n",
       "</style>\n",
       "<table border=\"1\" class=\"dataframe\">\n",
       "  <thead>\n",
       "    <tr style=\"text-align: right;\">\n",
       "      <th>dayofweek</th>\n",
       "      <th>Monday</th>\n",
       "      <th>Tuesday</th>\n",
       "      <th>Wednesday</th>\n",
       "      <th>Thursday</th>\n",
       "      <th>Friday</th>\n",
       "      <th>Saturday</th>\n",
       "      <th>Sunday</th>\n",
       "    </tr>\n",
       "    <tr>\n",
       "      <th>year</th>\n",
       "      <th></th>\n",
       "      <th></th>\n",
       "      <th></th>\n",
       "      <th></th>\n",
       "      <th></th>\n",
       "      <th></th>\n",
       "      <th></th>\n",
       "    </tr>\n",
       "  </thead>\n",
       "  <tbody>\n",
       "    <tr>\n",
       "      <th>2013</th>\n",
       "      <td>NaN</td>\n",
       "      <td>NaN</td>\n",
       "      <td>NaN</td>\n",
       "      <td>NaN</td>\n",
       "      <td>0.000000</td>\n",
       "      <td>0.000000</td>\n",
       "      <td>NaN</td>\n",
       "    </tr>\n",
       "    <tr>\n",
       "      <th>2014</th>\n",
       "      <td>6.000000</td>\n",
       "      <td>18.888889</td>\n",
       "      <td>5.571429</td>\n",
       "      <td>4.200000</td>\n",
       "      <td>11.000000</td>\n",
       "      <td>29.571429</td>\n",
       "      <td>7.800000</td>\n",
       "    </tr>\n",
       "    <tr>\n",
       "      <th>2015</th>\n",
       "      <td>32.000000</td>\n",
       "      <td>23.538462</td>\n",
       "      <td>35.125000</td>\n",
       "      <td>16.125000</td>\n",
       "      <td>20.933333</td>\n",
       "      <td>23.700000</td>\n",
       "      <td>17.875000</td>\n",
       "    </tr>\n",
       "    <tr>\n",
       "      <th>2016</th>\n",
       "      <td>46.400000</td>\n",
       "      <td>6.833333</td>\n",
       "      <td>18.625000</td>\n",
       "      <td>32.750000</td>\n",
       "      <td>17.600000</td>\n",
       "      <td>31.642857</td>\n",
       "      <td>9.615385</td>\n",
       "    </tr>\n",
       "    <tr>\n",
       "      <th>2017</th>\n",
       "      <td>59.200000</td>\n",
       "      <td>6.000000</td>\n",
       "      <td>14.875000</td>\n",
       "      <td>17.222222</td>\n",
       "      <td>56.000000</td>\n",
       "      <td>7.083333</td>\n",
       "      <td>29.000000</td>\n",
       "    </tr>\n",
       "    <tr>\n",
       "      <th>2018</th>\n",
       "      <td>5.153846</td>\n",
       "      <td>38.200000</td>\n",
       "      <td>7.390244</td>\n",
       "      <td>10.837838</td>\n",
       "      <td>20.200000</td>\n",
       "      <td>6.169811</td>\n",
       "      <td>38.681818</td>\n",
       "    </tr>\n",
       "    <tr>\n",
       "      <th>2019</th>\n",
       "      <td>2.071429</td>\n",
       "      <td>3.421053</td>\n",
       "      <td>4.392857</td>\n",
       "      <td>2.107143</td>\n",
       "      <td>2.416667</td>\n",
       "      <td>1.574074</td>\n",
       "      <td>1.689655</td>\n",
       "    </tr>\n",
       "  </tbody>\n",
       "</table>\n",
       "</div>"
      ],
      "text/plain": [
       "dayofweek     Monday    Tuesday  Wednesday   Thursday     Friday   Saturday  \\\n",
       "year                                                                          \n",
       "2013             NaN        NaN        NaN        NaN   0.000000   0.000000   \n",
       "2014        6.000000  18.888889   5.571429   4.200000  11.000000  29.571429   \n",
       "2015       32.000000  23.538462  35.125000  16.125000  20.933333  23.700000   \n",
       "2016       46.400000   6.833333  18.625000  32.750000  17.600000  31.642857   \n",
       "2017       59.200000   6.000000  14.875000  17.222222  56.000000   7.083333   \n",
       "2018        5.153846  38.200000   7.390244  10.837838  20.200000   6.169811   \n",
       "2019        2.071429   3.421053   4.392857   2.107143   2.416667   1.574074   \n",
       "\n",
       "dayofweek     Sunday  \n",
       "year                  \n",
       "2013             NaN  \n",
       "2014        7.800000  \n",
       "2015       17.875000  \n",
       "2016        9.615385  \n",
       "2017       29.000000  \n",
       "2018       38.681818  \n",
       "2019        1.689655  "
      ]
     },
     "execution_count": 34,
     "metadata": {},
     "output_type": "execute_result"
    }
   ],
   "source": [
    "df_pivotday = pd.pivot_table(datafinal,values=\"First Time Attendees\",index=\"year\",columns=\"dayofweek\",aggfunc=np.mean)\n",
    "df_pivotday"
   ]
  },
  {
   "cell_type": "code",
   "execution_count": 35,
   "id": "1aeb473e",
   "metadata": {
    "colab": {
     "base_uri": "https://localhost:8080/",
     "height": 457
    },
    "executionInfo": {
     "elapsed": 228,
     "status": "ok",
     "timestamp": 1639015788741,
     "user": {
      "displayName": "Rajesh Reddy Bogolu",
      "photoUrl": "https://lh3.googleusercontent.com/a/default-user=s64",
      "userId": "04960371768887858754"
     },
     "user_tz": 300
    },
    "id": "1aeb473e",
    "outputId": "e6b3e6a4-1a8f-4ddb-90bd-f0d7650c22dd"
   },
   "outputs": [
    {
     "data": {
      "text/html": [
       "<div>\n",
       "<style scoped>\n",
       "    .dataframe tbody tr th:only-of-type {\n",
       "        vertical-align: middle;\n",
       "    }\n",
       "\n",
       "    .dataframe tbody tr th {\n",
       "        vertical-align: top;\n",
       "    }\n",
       "\n",
       "    .dataframe thead th {\n",
       "        text-align: right;\n",
       "    }\n",
       "</style>\n",
       "<table border=\"1\" class=\"dataframe\">\n",
       "  <thead>\n",
       "    <tr style=\"text-align: right;\">\n",
       "      <th>year</th>\n",
       "      <th>2013</th>\n",
       "      <th>2014</th>\n",
       "      <th>2015</th>\n",
       "      <th>2016</th>\n",
       "      <th>2017</th>\n",
       "      <th>2018</th>\n",
       "      <th>2019</th>\n",
       "    </tr>\n",
       "    <tr>\n",
       "      <th>month</th>\n",
       "      <th></th>\n",
       "      <th></th>\n",
       "      <th></th>\n",
       "      <th></th>\n",
       "      <th></th>\n",
       "      <th></th>\n",
       "      <th></th>\n",
       "    </tr>\n",
       "  </thead>\n",
       "  <tbody>\n",
       "    <tr>\n",
       "      <th>1</th>\n",
       "      <td>NaN</td>\n",
       "      <td>NaN</td>\n",
       "      <td>10.250000</td>\n",
       "      <td>9.500000</td>\n",
       "      <td>2.000000</td>\n",
       "      <td>15.375000</td>\n",
       "      <td>3.235294</td>\n",
       "    </tr>\n",
       "    <tr>\n",
       "      <th>2</th>\n",
       "      <td>NaN</td>\n",
       "      <td>0.000000</td>\n",
       "      <td>21.600000</td>\n",
       "      <td>7.000000</td>\n",
       "      <td>19.600000</td>\n",
       "      <td>5.000000</td>\n",
       "      <td>2.115385</td>\n",
       "    </tr>\n",
       "    <tr>\n",
       "      <th>3</th>\n",
       "      <td>NaN</td>\n",
       "      <td>0.000000</td>\n",
       "      <td>20.500000</td>\n",
       "      <td>9.857143</td>\n",
       "      <td>25.333333</td>\n",
       "      <td>9.250000</td>\n",
       "      <td>1.520000</td>\n",
       "    </tr>\n",
       "    <tr>\n",
       "      <th>4</th>\n",
       "      <td>NaN</td>\n",
       "      <td>0.000000</td>\n",
       "      <td>12.846154</td>\n",
       "      <td>29.700000</td>\n",
       "      <td>2.142857</td>\n",
       "      <td>41.040000</td>\n",
       "      <td>4.038462</td>\n",
       "    </tr>\n",
       "    <tr>\n",
       "      <th>5</th>\n",
       "      <td>NaN</td>\n",
       "      <td>0.000000</td>\n",
       "      <td>68.000000</td>\n",
       "      <td>32.625000</td>\n",
       "      <td>65.800000</td>\n",
       "      <td>4.733333</td>\n",
       "      <td>3.000000</td>\n",
       "    </tr>\n",
       "    <tr>\n",
       "      <th>6</th>\n",
       "      <td>NaN</td>\n",
       "      <td>0.000000</td>\n",
       "      <td>26.000000</td>\n",
       "      <td>25.285714</td>\n",
       "      <td>5.500000</td>\n",
       "      <td>14.428571</td>\n",
       "      <td>3.222222</td>\n",
       "    </tr>\n",
       "    <tr>\n",
       "      <th>7</th>\n",
       "      <td>NaN</td>\n",
       "      <td>NaN</td>\n",
       "      <td>NaN</td>\n",
       "      <td>0.500000</td>\n",
       "      <td>20.666667</td>\n",
       "      <td>124.833333</td>\n",
       "      <td>1.500000</td>\n",
       "    </tr>\n",
       "    <tr>\n",
       "      <th>8</th>\n",
       "      <td>NaN</td>\n",
       "      <td>37.000000</td>\n",
       "      <td>8.500000</td>\n",
       "      <td>11.000000</td>\n",
       "      <td>NaN</td>\n",
       "      <td>6.000000</td>\n",
       "      <td>2.090909</td>\n",
       "    </tr>\n",
       "    <tr>\n",
       "      <th>9</th>\n",
       "      <td>0.0</td>\n",
       "      <td>12.714286</td>\n",
       "      <td>18.250000</td>\n",
       "      <td>68.000000</td>\n",
       "      <td>44.750000</td>\n",
       "      <td>8.500000</td>\n",
       "      <td>2.428571</td>\n",
       "    </tr>\n",
       "    <tr>\n",
       "      <th>10</th>\n",
       "      <td>0.0</td>\n",
       "      <td>32.538462</td>\n",
       "      <td>21.000000</td>\n",
       "      <td>67.333333</td>\n",
       "      <td>8.500000</td>\n",
       "      <td>8.520000</td>\n",
       "      <td>1.692308</td>\n",
       "    </tr>\n",
       "    <tr>\n",
       "      <th>11</th>\n",
       "      <td>NaN</td>\n",
       "      <td>17.600000</td>\n",
       "      <td>28.300000</td>\n",
       "      <td>42.000000</td>\n",
       "      <td>5.800000</td>\n",
       "      <td>1.150000</td>\n",
       "      <td>1.526316</td>\n",
       "    </tr>\n",
       "    <tr>\n",
       "      <th>12</th>\n",
       "      <td>0.0</td>\n",
       "      <td>12.900000</td>\n",
       "      <td>29.125000</td>\n",
       "      <td>16.000000</td>\n",
       "      <td>22.000000</td>\n",
       "      <td>1.692308</td>\n",
       "      <td>NaN</td>\n",
       "    </tr>\n",
       "  </tbody>\n",
       "</table>\n",
       "</div>"
      ],
      "text/plain": [
       "year   2013       2014       2015       2016       2017        2018      2019\n",
       "month                                                                        \n",
       "1       NaN        NaN  10.250000   9.500000   2.000000   15.375000  3.235294\n",
       "2       NaN   0.000000  21.600000   7.000000  19.600000    5.000000  2.115385\n",
       "3       NaN   0.000000  20.500000   9.857143  25.333333    9.250000  1.520000\n",
       "4       NaN   0.000000  12.846154  29.700000   2.142857   41.040000  4.038462\n",
       "5       NaN   0.000000  68.000000  32.625000  65.800000    4.733333  3.000000\n",
       "6       NaN   0.000000  26.000000  25.285714   5.500000   14.428571  3.222222\n",
       "7       NaN        NaN        NaN   0.500000  20.666667  124.833333  1.500000\n",
       "8       NaN  37.000000   8.500000  11.000000        NaN    6.000000  2.090909\n",
       "9       0.0  12.714286  18.250000  68.000000  44.750000    8.500000  2.428571\n",
       "10      0.0  32.538462  21.000000  67.333333   8.500000    8.520000  1.692308\n",
       "11      NaN  17.600000  28.300000  42.000000   5.800000    1.150000  1.526316\n",
       "12      0.0  12.900000  29.125000  16.000000  22.000000    1.692308       NaN"
      ]
     },
     "execution_count": 35,
     "metadata": {},
     "output_type": "execute_result"
    }
   ],
   "source": [
    "df_pivotmonth = pd.pivot_table(datafinal,values=\"First Time Attendees\",index=\"month\",columns=\"year\",aggfunc=np.mean)\n",
    "df_pivotmonth"
   ]
  },
  {
   "cell_type": "code",
   "execution_count": 36,
   "id": "28d49035",
   "metadata": {
    "colab": {
     "base_uri": "https://localhost:8080/"
    },
    "executionInfo": {
     "elapsed": 237,
     "status": "ok",
     "timestamp": 1639015793336,
     "user": {
      "displayName": "Rajesh Reddy Bogolu",
      "photoUrl": "https://lh3.googleusercontent.com/a/default-user=s64",
      "userId": "04960371768887858754"
     },
     "user_tz": 300
    },
    "id": "28d49035",
    "outputId": "988f88c8-b209-4a89-9321-d1a47e2fecbb"
   },
   "outputs": [
    {
     "name": "stdout",
     "output_type": "stream",
     "text": [
      "year              2013      2014      2015      2016      2017      2018  \\\n",
      "Area                                                                       \n",
      "CP DC              NaN       NaN       NaN       NaN       NaN       NaN   \n",
      "CP DMV             0.0  0.364236  0.471415  0.354886  0.341388  0.380091   \n",
      "CP International   NaN       NaN       NaN       NaN  0.784091       NaN   \n",
      "CP Northeast       NaN  0.335181  0.310842  0.284817       NaN  0.196839   \n",
      "CP Online          NaN       NaN       NaN       NaN  0.391376  0.324127   \n",
      "CP Social          NaN       NaN       NaN       NaN       NaN       NaN   \n",
      "CP Southeast       NaN  0.384511  0.351878  0.361232  0.238619  0.327829   \n",
      "CP USA             NaN       NaN  0.371032       NaN       NaN       NaN   \n",
      "CP West            NaN       NaN       NaN       NaN       NaN  0.317474   \n",
      "CP West Coast      NaN  0.596051  0.503808  0.358259  0.487518  0.281256   \n",
      "\n",
      "year                  2019  \n",
      "Area                        \n",
      "CP DC             0.118056  \n",
      "CP DMV            0.064664  \n",
      "CP International       NaN  \n",
      "CP Northeast      0.058946  \n",
      "CP Online         0.149771  \n",
      "CP Social         0.000000  \n",
      "CP Southeast      0.048487  \n",
      "CP USA                 NaN  \n",
      "CP West           0.037037  \n",
      "CP West Coast     0.093936  \n",
      "year                 2013      2014      2015      2016      2017      2018  \\\n",
      "Area                                                                          \n",
      "CP DC                 NaN       NaN       NaN       NaN       NaN       NaN   \n",
      "CP DMV            0.30072  0.136666  0.122575  0.122490  0.151565  0.112863   \n",
      "CP International      NaN       NaN       NaN       NaN  0.000000       NaN   \n",
      "CP Northeast          NaN  0.170578  0.215009  0.342733       NaN  0.098064   \n",
      "CP Online             NaN       NaN       NaN       NaN  0.003289  0.049240   \n",
      "CP Social             NaN       NaN       NaN       NaN       NaN       NaN   \n",
      "CP Southeast          NaN  0.324194  0.259199  0.132609  0.220814  0.197505   \n",
      "CP USA                NaN       NaN  0.182788       NaN       NaN       NaN   \n",
      "CP West               NaN       NaN       NaN       NaN       NaN  0.071301   \n",
      "CP West Coast         NaN  0.283732  0.140662  0.028304  0.040404  0.077050   \n",
      "\n",
      "year                  2019  \n",
      "Area                        \n",
      "CP DC             0.000000  \n",
      "CP DMV            0.045804  \n",
      "CP International       NaN  \n",
      "CP Northeast      0.067268  \n",
      "CP Online         0.025723  \n",
      "CP Social         0.066667  \n",
      "CP Southeast      0.098629  \n",
      "CP USA                 NaN  \n",
      "CP West           0.083333  \n",
      "CP West Coast     0.017745  \n"
     ]
    }
   ],
   "source": [
    "df_pivotArea = pd.pivot_table(datafinal,values=\"Percentage First Time Attendees\",index=\"Area\",columns=\"year\",aggfunc=np.mean)\n",
    "print(df_pivotArea)\n",
    "\n",
    "df_pivotAreaMP = pd.pivot_table(datafinal,values=\"Percentage Major Prospect\",index=\"Area\",columns=\"year\",aggfunc=np.mean)\n",
    "print(df_pivotAreaMP)"
   ]
  },
  {
   "cell_type": "code",
   "execution_count": 37,
   "id": "dd466155",
   "metadata": {
    "colab": {
     "base_uri": "https://localhost:8080/",
     "height": 551
    },
    "executionInfo": {
     "elapsed": 227,
     "status": "ok",
     "timestamp": 1639015798757,
     "user": {
      "displayName": "Rajesh Reddy Bogolu",
      "photoUrl": "https://lh3.googleusercontent.com/a/default-user=s64",
      "userId": "04960371768887858754"
     },
     "user_tz": 300
    },
    "id": "dd466155",
    "outputId": "31e76d67-d032-474f-81b5-85cfe89b687d"
   },
   "outputs": [
    {
     "data": {
      "text/html": [
       "<div>\n",
       "<style scoped>\n",
       "    .dataframe tbody tr th:only-of-type {\n",
       "        vertical-align: middle;\n",
       "    }\n",
       "\n",
       "    .dataframe tbody tr th {\n",
       "        vertical-align: top;\n",
       "    }\n",
       "\n",
       "    .dataframe thead th {\n",
       "        text-align: right;\n",
       "    }\n",
       "</style>\n",
       "<table border=\"1\" class=\"dataframe\">\n",
       "  <thead>\n",
       "    <tr style=\"text-align: right;\">\n",
       "      <th>year</th>\n",
       "      <th>2013</th>\n",
       "      <th>2014</th>\n",
       "      <th>2015</th>\n",
       "      <th>2016</th>\n",
       "      <th>2017</th>\n",
       "      <th>2018</th>\n",
       "      <th>2019</th>\n",
       "    </tr>\n",
       "    <tr>\n",
       "      <th>Group</th>\n",
       "      <th></th>\n",
       "      <th></th>\n",
       "      <th></th>\n",
       "      <th></th>\n",
       "      <th></th>\n",
       "      <th></th>\n",
       "      <th></th>\n",
       "    </tr>\n",
       "  </thead>\n",
       "  <tbody>\n",
       "    <tr>\n",
       "      <th>CP Advocacy</th>\n",
       "      <td>NaN</td>\n",
       "      <td>0.000000</td>\n",
       "      <td>NaN</td>\n",
       "      <td>0.358819</td>\n",
       "      <td>0.256202</td>\n",
       "      <td>0.233669</td>\n",
       "      <td>0.052941</td>\n",
       "    </tr>\n",
       "    <tr>\n",
       "      <th>CP Affinity</th>\n",
       "      <td>NaN</td>\n",
       "      <td>NaN</td>\n",
       "      <td>NaN</td>\n",
       "      <td>NaN</td>\n",
       "      <td>NaN</td>\n",
       "      <td>0.297596</td>\n",
       "      <td>0.064460</td>\n",
       "    </tr>\n",
       "    <tr>\n",
       "      <th>CP Athletics</th>\n",
       "      <td>0.0</td>\n",
       "      <td>0.458790</td>\n",
       "      <td>0.457280</td>\n",
       "      <td>0.297356</td>\n",
       "      <td>0.155352</td>\n",
       "      <td>0.288092</td>\n",
       "      <td>0.084694</td>\n",
       "    </tr>\n",
       "    <tr>\n",
       "      <th>CP Campaign</th>\n",
       "      <td>NaN</td>\n",
       "      <td>NaN</td>\n",
       "      <td>NaN</td>\n",
       "      <td>NaN</td>\n",
       "      <td>NaN</td>\n",
       "      <td>NaN</td>\n",
       "      <td>0.106572</td>\n",
       "    </tr>\n",
       "    <tr>\n",
       "      <th>CP Career</th>\n",
       "      <td>NaN</td>\n",
       "      <td>NaN</td>\n",
       "      <td>NaN</td>\n",
       "      <td>NaN</td>\n",
       "      <td>NaN</td>\n",
       "      <td>0.187500</td>\n",
       "      <td>NaN</td>\n",
       "    </tr>\n",
       "    <tr>\n",
       "      <th>CP Cultivation</th>\n",
       "      <td>NaN</td>\n",
       "      <td>NaN</td>\n",
       "      <td>0.621469</td>\n",
       "      <td>NaN</td>\n",
       "      <td>0.488636</td>\n",
       "      <td>0.365385</td>\n",
       "      <td>0.052885</td>\n",
       "    </tr>\n",
       "    <tr>\n",
       "      <th>CP Cultural</th>\n",
       "      <td>NaN</td>\n",
       "      <td>0.500000</td>\n",
       "      <td>NaN</td>\n",
       "      <td>0.400000</td>\n",
       "      <td>0.619048</td>\n",
       "      <td>0.146053</td>\n",
       "      <td>0.070721</td>\n",
       "    </tr>\n",
       "    <tr>\n",
       "      <th>CP D&amp;I</th>\n",
       "      <td>NaN</td>\n",
       "      <td>NaN</td>\n",
       "      <td>NaN</td>\n",
       "      <td>NaN</td>\n",
       "      <td>NaN</td>\n",
       "      <td>0.428571</td>\n",
       "      <td>NaN</td>\n",
       "    </tr>\n",
       "    <tr>\n",
       "      <th>CP DMV</th>\n",
       "      <td>NaN</td>\n",
       "      <td>NaN</td>\n",
       "      <td>NaN</td>\n",
       "      <td>NaN</td>\n",
       "      <td>NaN</td>\n",
       "      <td>NaN</td>\n",
       "      <td>0.000000</td>\n",
       "    </tr>\n",
       "    <tr>\n",
       "      <th>CP General</th>\n",
       "      <td>NaN</td>\n",
       "      <td>NaN</td>\n",
       "      <td>NaN</td>\n",
       "      <td>NaN</td>\n",
       "      <td>NaN</td>\n",
       "      <td>0.761905</td>\n",
       "      <td>NaN</td>\n",
       "    </tr>\n",
       "    <tr>\n",
       "      <th>CP Membership</th>\n",
       "      <td>NaN</td>\n",
       "      <td>0.406780</td>\n",
       "      <td>0.310345</td>\n",
       "      <td>0.318966</td>\n",
       "      <td>NaN</td>\n",
       "      <td>NaN</td>\n",
       "      <td>0.056338</td>\n",
       "    </tr>\n",
       "    <tr>\n",
       "      <th>CP ProDev</th>\n",
       "      <td>NaN</td>\n",
       "      <td>0.322119</td>\n",
       "      <td>0.368682</td>\n",
       "      <td>0.329012</td>\n",
       "      <td>0.367592</td>\n",
       "      <td>0.287628</td>\n",
       "      <td>0.096924</td>\n",
       "    </tr>\n",
       "    <tr>\n",
       "      <th>CP Service</th>\n",
       "      <td>NaN</td>\n",
       "      <td>0.500000</td>\n",
       "      <td>0.476111</td>\n",
       "      <td>0.439489</td>\n",
       "      <td>0.571429</td>\n",
       "      <td>0.303098</td>\n",
       "      <td>0.051111</td>\n",
       "    </tr>\n",
       "    <tr>\n",
       "      <th>CP Social</th>\n",
       "      <td>NaN</td>\n",
       "      <td>0.341165</td>\n",
       "      <td>0.468545</td>\n",
       "      <td>0.389043</td>\n",
       "      <td>0.405464</td>\n",
       "      <td>0.395295</td>\n",
       "      <td>0.064278</td>\n",
       "    </tr>\n",
       "    <tr>\n",
       "      <th>CP Stewardship</th>\n",
       "      <td>0.0</td>\n",
       "      <td>NaN</td>\n",
       "      <td>0.284942</td>\n",
       "      <td>0.246587</td>\n",
       "      <td>0.252214</td>\n",
       "      <td>0.244227</td>\n",
       "      <td>0.035229</td>\n",
       "    </tr>\n",
       "  </tbody>\n",
       "</table>\n",
       "</div>"
      ],
      "text/plain": [
       "year            2013      2014      2015      2016      2017      2018  \\\n",
       "Group                                                                    \n",
       "CP Advocacy      NaN  0.000000       NaN  0.358819  0.256202  0.233669   \n",
       "CP Affinity      NaN       NaN       NaN       NaN       NaN  0.297596   \n",
       "CP Athletics     0.0  0.458790  0.457280  0.297356  0.155352  0.288092   \n",
       "CP Campaign      NaN       NaN       NaN       NaN       NaN       NaN   \n",
       "CP Career        NaN       NaN       NaN       NaN       NaN  0.187500   \n",
       "CP Cultivation   NaN       NaN  0.621469       NaN  0.488636  0.365385   \n",
       "CP Cultural      NaN  0.500000       NaN  0.400000  0.619048  0.146053   \n",
       "CP D&I           NaN       NaN       NaN       NaN       NaN  0.428571   \n",
       "CP DMV           NaN       NaN       NaN       NaN       NaN       NaN   \n",
       "CP General       NaN       NaN       NaN       NaN       NaN  0.761905   \n",
       "CP Membership    NaN  0.406780  0.310345  0.318966       NaN       NaN   \n",
       "CP ProDev        NaN  0.322119  0.368682  0.329012  0.367592  0.287628   \n",
       "CP Service       NaN  0.500000  0.476111  0.439489  0.571429  0.303098   \n",
       "CP Social        NaN  0.341165  0.468545  0.389043  0.405464  0.395295   \n",
       "CP Stewardship   0.0       NaN  0.284942  0.246587  0.252214  0.244227   \n",
       "\n",
       "year                2019  \n",
       "Group                     \n",
       "CP Advocacy     0.052941  \n",
       "CP Affinity     0.064460  \n",
       "CP Athletics    0.084694  \n",
       "CP Campaign     0.106572  \n",
       "CP Career            NaN  \n",
       "CP Cultivation  0.052885  \n",
       "CP Cultural     0.070721  \n",
       "CP D&I               NaN  \n",
       "CP DMV          0.000000  \n",
       "CP General           NaN  \n",
       "CP Membership   0.056338  \n",
       "CP ProDev       0.096924  \n",
       "CP Service      0.051111  \n",
       "CP Social       0.064278  \n",
       "CP Stewardship  0.035229  "
      ]
     },
     "execution_count": 37,
     "metadata": {},
     "output_type": "execute_result"
    }
   ],
   "source": [
    "df_pivotGroup = pd.pivot_table(datafinal,values=\"Percentage First Time Attendees\",index=\"Group\",columns=\"year\",aggfunc=np.mean)\n",
    "df_pivotGroup"
   ]
  },
  {
   "cell_type": "code",
   "execution_count": 38,
   "id": "c73d23c8",
   "metadata": {
    "colab": {
     "base_uri": "https://localhost:8080/",
     "height": 551
    },
    "executionInfo": {
     "elapsed": 383,
     "status": "ok",
     "timestamp": 1639015803547,
     "user": {
      "displayName": "Rajesh Reddy Bogolu",
      "photoUrl": "https://lh3.googleusercontent.com/a/default-user=s64",
      "userId": "04960371768887858754"
     },
     "user_tz": 300
    },
    "id": "c73d23c8",
    "outputId": "4f1146e8-4cd3-4f8d-8f69-ecc7c59b7851"
   },
   "outputs": [
    {
     "data": {
      "text/html": [
       "<div>\n",
       "<style scoped>\n",
       "    .dataframe tbody tr th:only-of-type {\n",
       "        vertical-align: middle;\n",
       "    }\n",
       "\n",
       "    .dataframe tbody tr th {\n",
       "        vertical-align: top;\n",
       "    }\n",
       "\n",
       "    .dataframe thead th {\n",
       "        text-align: right;\n",
       "    }\n",
       "</style>\n",
       "<table border=\"1\" class=\"dataframe\">\n",
       "  <thead>\n",
       "    <tr style=\"text-align: right;\">\n",
       "      <th>year</th>\n",
       "      <th>2013</th>\n",
       "      <th>2014</th>\n",
       "      <th>2015</th>\n",
       "      <th>2016</th>\n",
       "      <th>2017</th>\n",
       "      <th>2018</th>\n",
       "      <th>2019</th>\n",
       "    </tr>\n",
       "    <tr>\n",
       "      <th>Group</th>\n",
       "      <th></th>\n",
       "      <th></th>\n",
       "      <th></th>\n",
       "      <th></th>\n",
       "      <th></th>\n",
       "      <th></th>\n",
       "      <th></th>\n",
       "    </tr>\n",
       "  </thead>\n",
       "  <tbody>\n",
       "    <tr>\n",
       "      <th>CP Advocacy</th>\n",
       "      <td>NaN</td>\n",
       "      <td>0.135593</td>\n",
       "      <td>NaN</td>\n",
       "      <td>0.124005</td>\n",
       "      <td>0.109852</td>\n",
       "      <td>0.171104</td>\n",
       "      <td>0.069939</td>\n",
       "    </tr>\n",
       "    <tr>\n",
       "      <th>CP Affinity</th>\n",
       "      <td>NaN</td>\n",
       "      <td>NaN</td>\n",
       "      <td>NaN</td>\n",
       "      <td>NaN</td>\n",
       "      <td>NaN</td>\n",
       "      <td>0.028846</td>\n",
       "      <td>0.046603</td>\n",
       "    </tr>\n",
       "    <tr>\n",
       "      <th>CP Athletics</th>\n",
       "      <td>0.258433</td>\n",
       "      <td>0.175078</td>\n",
       "      <td>0.151986</td>\n",
       "      <td>0.110863</td>\n",
       "      <td>0.127769</td>\n",
       "      <td>0.088866</td>\n",
       "      <td>0.036690</td>\n",
       "    </tr>\n",
       "    <tr>\n",
       "      <th>CP Campaign</th>\n",
       "      <td>NaN</td>\n",
       "      <td>NaN</td>\n",
       "      <td>NaN</td>\n",
       "      <td>NaN</td>\n",
       "      <td>NaN</td>\n",
       "      <td>NaN</td>\n",
       "      <td>0.114934</td>\n",
       "    </tr>\n",
       "    <tr>\n",
       "      <th>CP Career</th>\n",
       "      <td>NaN</td>\n",
       "      <td>NaN</td>\n",
       "      <td>NaN</td>\n",
       "      <td>NaN</td>\n",
       "      <td>NaN</td>\n",
       "      <td>0.000000</td>\n",
       "      <td>NaN</td>\n",
       "    </tr>\n",
       "    <tr>\n",
       "      <th>CP Cultivation</th>\n",
       "      <td>NaN</td>\n",
       "      <td>NaN</td>\n",
       "      <td>0.152542</td>\n",
       "      <td>NaN</td>\n",
       "      <td>0.232955</td>\n",
       "      <td>0.057692</td>\n",
       "      <td>0.024038</td>\n",
       "    </tr>\n",
       "    <tr>\n",
       "      <th>CP Cultural</th>\n",
       "      <td>NaN</td>\n",
       "      <td>0.350000</td>\n",
       "      <td>NaN</td>\n",
       "      <td>0.000000</td>\n",
       "      <td>0.000000</td>\n",
       "      <td>0.000000</td>\n",
       "      <td>0.009009</td>\n",
       "    </tr>\n",
       "    <tr>\n",
       "      <th>CP D&amp;I</th>\n",
       "      <td>NaN</td>\n",
       "      <td>NaN</td>\n",
       "      <td>NaN</td>\n",
       "      <td>NaN</td>\n",
       "      <td>NaN</td>\n",
       "      <td>0.015873</td>\n",
       "      <td>NaN</td>\n",
       "    </tr>\n",
       "    <tr>\n",
       "      <th>CP DMV</th>\n",
       "      <td>NaN</td>\n",
       "      <td>NaN</td>\n",
       "      <td>NaN</td>\n",
       "      <td>NaN</td>\n",
       "      <td>NaN</td>\n",
       "      <td>NaN</td>\n",
       "      <td>0.066667</td>\n",
       "    </tr>\n",
       "    <tr>\n",
       "      <th>CP General</th>\n",
       "      <td>NaN</td>\n",
       "      <td>NaN</td>\n",
       "      <td>NaN</td>\n",
       "      <td>NaN</td>\n",
       "      <td>NaN</td>\n",
       "      <td>0.276190</td>\n",
       "      <td>NaN</td>\n",
       "    </tr>\n",
       "    <tr>\n",
       "      <th>CP Membership</th>\n",
       "      <td>NaN</td>\n",
       "      <td>0.313559</td>\n",
       "      <td>0.298851</td>\n",
       "      <td>0.189655</td>\n",
       "      <td>NaN</td>\n",
       "      <td>NaN</td>\n",
       "      <td>0.119718</td>\n",
       "    </tr>\n",
       "    <tr>\n",
       "      <th>CP ProDev</th>\n",
       "      <td>NaN</td>\n",
       "      <td>0.143932</td>\n",
       "      <td>0.138131</td>\n",
       "      <td>0.171238</td>\n",
       "      <td>0.076069</td>\n",
       "      <td>0.126625</td>\n",
       "      <td>0.068119</td>\n",
       "    </tr>\n",
       "    <tr>\n",
       "      <th>CP Service</th>\n",
       "      <td>NaN</td>\n",
       "      <td>0.000000</td>\n",
       "      <td>0.113974</td>\n",
       "      <td>0.056209</td>\n",
       "      <td>0.000000</td>\n",
       "      <td>0.000000</td>\n",
       "      <td>0.000000</td>\n",
       "    </tr>\n",
       "    <tr>\n",
       "      <th>CP Social</th>\n",
       "      <td>NaN</td>\n",
       "      <td>0.190459</td>\n",
       "      <td>0.142359</td>\n",
       "      <td>0.101485</td>\n",
       "      <td>0.140022</td>\n",
       "      <td>0.087603</td>\n",
       "      <td>0.037294</td>\n",
       "    </tr>\n",
       "    <tr>\n",
       "      <th>CP Stewardship</th>\n",
       "      <td>0.385294</td>\n",
       "      <td>NaN</td>\n",
       "      <td>0.231965</td>\n",
       "      <td>0.275598</td>\n",
       "      <td>0.298384</td>\n",
       "      <td>0.226336</td>\n",
       "      <td>0.108226</td>\n",
       "    </tr>\n",
       "  </tbody>\n",
       "</table>\n",
       "</div>"
      ],
      "text/plain": [
       "year                2013      2014      2015      2016      2017      2018  \\\n",
       "Group                                                                        \n",
       "CP Advocacy          NaN  0.135593       NaN  0.124005  0.109852  0.171104   \n",
       "CP Affinity          NaN       NaN       NaN       NaN       NaN  0.028846   \n",
       "CP Athletics    0.258433  0.175078  0.151986  0.110863  0.127769  0.088866   \n",
       "CP Campaign          NaN       NaN       NaN       NaN       NaN       NaN   \n",
       "CP Career            NaN       NaN       NaN       NaN       NaN  0.000000   \n",
       "CP Cultivation       NaN       NaN  0.152542       NaN  0.232955  0.057692   \n",
       "CP Cultural          NaN  0.350000       NaN  0.000000  0.000000  0.000000   \n",
       "CP D&I               NaN       NaN       NaN       NaN       NaN  0.015873   \n",
       "CP DMV               NaN       NaN       NaN       NaN       NaN       NaN   \n",
       "CP General           NaN       NaN       NaN       NaN       NaN  0.276190   \n",
       "CP Membership        NaN  0.313559  0.298851  0.189655       NaN       NaN   \n",
       "CP ProDev            NaN  0.143932  0.138131  0.171238  0.076069  0.126625   \n",
       "CP Service           NaN  0.000000  0.113974  0.056209  0.000000  0.000000   \n",
       "CP Social            NaN  0.190459  0.142359  0.101485  0.140022  0.087603   \n",
       "CP Stewardship  0.385294       NaN  0.231965  0.275598  0.298384  0.226336   \n",
       "\n",
       "year                2019  \n",
       "Group                     \n",
       "CP Advocacy     0.069939  \n",
       "CP Affinity     0.046603  \n",
       "CP Athletics    0.036690  \n",
       "CP Campaign     0.114934  \n",
       "CP Career            NaN  \n",
       "CP Cultivation  0.024038  \n",
       "CP Cultural     0.009009  \n",
       "CP D&I               NaN  \n",
       "CP DMV          0.066667  \n",
       "CP General           NaN  \n",
       "CP Membership   0.119718  \n",
       "CP ProDev       0.068119  \n",
       "CP Service      0.000000  \n",
       "CP Social       0.037294  \n",
       "CP Stewardship  0.108226  "
      ]
     },
     "execution_count": 38,
     "metadata": {},
     "output_type": "execute_result"
    }
   ],
   "source": [
    "df_pivotGroupMP = pd.pivot_table(datafinal,values=\"Percentage Major Prospect\",index=\"Group\",columns=\"year\",aggfunc=np.mean)\n",
    "df_pivotGroupMP"
   ]
  },
  {
   "cell_type": "markdown",
   "id": "988f100b",
   "metadata": {
    "id": "988f100b"
   },
   "source": [
    "## Complex Analysis - Important Variables  "
   ]
  },
  {
   "cell_type": "code",
   "execution_count": 40,
   "id": "b69dc5ae",
   "metadata": {
    "colab": {
     "base_uri": "https://localhost:8080/",
     "height": 384
    },
    "executionInfo": {
     "elapsed": 285,
     "status": "ok",
     "timestamp": 1639015828178,
     "user": {
      "displayName": "Rajesh Reddy Bogolu",
      "photoUrl": "https://lh3.googleusercontent.com/a/default-user=s64",
      "userId": "04960371768887858754"
     },
     "user_tz": 300
    },
    "id": "b69dc5ae",
    "outputId": "9cb65604-99a5-4e88-82c5-54abd88f6c49"
   },
   "outputs": [
    {
     "data": {
      "text/html": [
       "<div>\n",
       "<style scoped>\n",
       "    .dataframe tbody tr th:only-of-type {\n",
       "        vertical-align: middle;\n",
       "    }\n",
       "\n",
       "    .dataframe tbody tr th {\n",
       "        vertical-align: top;\n",
       "    }\n",
       "\n",
       "    .dataframe thead th {\n",
       "        text-align: right;\n",
       "    }\n",
       "</style>\n",
       "<table border=\"1\" class=\"dataframe\">\n",
       "  <thead>\n",
       "    <tr style=\"text-align: right;\">\n",
       "      <th></th>\n",
       "      <th>Participated</th>\n",
       "      <th>Average Age</th>\n",
       "      <th>First Time Attendees</th>\n",
       "      <th>Percentage First Time Attendees</th>\n",
       "      <th>Major Prospects</th>\n",
       "      <th>Percentage Major Prospect</th>\n",
       "      <th>year</th>\n",
       "      <th>month</th>\n",
       "      <th>day</th>\n",
       "    </tr>\n",
       "  </thead>\n",
       "  <tbody>\n",
       "    <tr>\n",
       "      <th>Participated</th>\n",
       "      <td>1.000000</td>\n",
       "      <td>0.037616</td>\n",
       "      <td>0.835996</td>\n",
       "      <td>0.047840</td>\n",
       "      <td>0.658973</td>\n",
       "      <td>0.113415</td>\n",
       "      <td>-0.109570</td>\n",
       "      <td>0.019270</td>\n",
       "      <td>-0.002515</td>\n",
       "    </tr>\n",
       "    <tr>\n",
       "      <th>Average Age</th>\n",
       "      <td>0.037616</td>\n",
       "      <td>1.000000</td>\n",
       "      <td>-0.048204</td>\n",
       "      <td>-0.152633</td>\n",
       "      <td>0.308342</td>\n",
       "      <td>0.549320</td>\n",
       "      <td>-0.057415</td>\n",
       "      <td>0.008201</td>\n",
       "      <td>0.074654</td>\n",
       "    </tr>\n",
       "    <tr>\n",
       "      <th>First Time Attendees</th>\n",
       "      <td>0.835996</td>\n",
       "      <td>-0.048204</td>\n",
       "      <td>1.000000</td>\n",
       "      <td>0.281961</td>\n",
       "      <td>0.420884</td>\n",
       "      <td>0.051069</td>\n",
       "      <td>-0.143032</td>\n",
       "      <td>0.006804</td>\n",
       "      <td>-0.047270</td>\n",
       "    </tr>\n",
       "    <tr>\n",
       "      <th>Percentage First Time Attendees</th>\n",
       "      <td>0.047840</td>\n",
       "      <td>-0.152633</td>\n",
       "      <td>0.281961</td>\n",
       "      <td>1.000000</td>\n",
       "      <td>0.000751</td>\n",
       "      <td>0.067701</td>\n",
       "      <td>-0.419344</td>\n",
       "      <td>0.086106</td>\n",
       "      <td>-0.063627</td>\n",
       "    </tr>\n",
       "    <tr>\n",
       "      <th>Major Prospects</th>\n",
       "      <td>0.658973</td>\n",
       "      <td>0.308342</td>\n",
       "      <td>0.420884</td>\n",
       "      <td>0.000751</td>\n",
       "      <td>1.000000</td>\n",
       "      <td>0.481370</td>\n",
       "      <td>-0.303667</td>\n",
       "      <td>0.060620</td>\n",
       "      <td>0.044416</td>\n",
       "    </tr>\n",
       "    <tr>\n",
       "      <th>Percentage Major Prospect</th>\n",
       "      <td>0.113415</td>\n",
       "      <td>0.549320</td>\n",
       "      <td>0.051069</td>\n",
       "      <td>0.067701</td>\n",
       "      <td>0.481370</td>\n",
       "      <td>1.000000</td>\n",
       "      <td>-0.320860</td>\n",
       "      <td>0.007585</td>\n",
       "      <td>0.075520</td>\n",
       "    </tr>\n",
       "    <tr>\n",
       "      <th>year</th>\n",
       "      <td>-0.109570</td>\n",
       "      <td>-0.057415</td>\n",
       "      <td>-0.143032</td>\n",
       "      <td>-0.419344</td>\n",
       "      <td>-0.303667</td>\n",
       "      <td>-0.320860</td>\n",
       "      <td>1.000000</td>\n",
       "      <td>-0.138539</td>\n",
       "      <td>0.081161</td>\n",
       "    </tr>\n",
       "    <tr>\n",
       "      <th>month</th>\n",
       "      <td>0.019270</td>\n",
       "      <td>0.008201</td>\n",
       "      <td>0.006804</td>\n",
       "      <td>0.086106</td>\n",
       "      <td>0.060620</td>\n",
       "      <td>0.007585</td>\n",
       "      <td>-0.138539</td>\n",
       "      <td>1.000000</td>\n",
       "      <td>-0.151735</td>\n",
       "    </tr>\n",
       "    <tr>\n",
       "      <th>day</th>\n",
       "      <td>-0.002515</td>\n",
       "      <td>0.074654</td>\n",
       "      <td>-0.047270</td>\n",
       "      <td>-0.063627</td>\n",
       "      <td>0.044416</td>\n",
       "      <td>0.075520</td>\n",
       "      <td>0.081161</td>\n",
       "      <td>-0.151735</td>\n",
       "      <td>1.000000</td>\n",
       "    </tr>\n",
       "  </tbody>\n",
       "</table>\n",
       "</div>"
      ],
      "text/plain": [
       "                                 Participated  Average Age  \\\n",
       "Participated                         1.000000     0.037616   \n",
       "Average Age                          0.037616     1.000000   \n",
       "First Time Attendees                 0.835996    -0.048204   \n",
       "Percentage First Time Attendees      0.047840    -0.152633   \n",
       "Major Prospects                      0.658973     0.308342   \n",
       "Percentage Major Prospect            0.113415     0.549320   \n",
       "year                                -0.109570    -0.057415   \n",
       "month                                0.019270     0.008201   \n",
       "day                                 -0.002515     0.074654   \n",
       "\n",
       "                                 First Time Attendees  \\\n",
       "Participated                                 0.835996   \n",
       "Average Age                                 -0.048204   \n",
       "First Time Attendees                         1.000000   \n",
       "Percentage First Time Attendees              0.281961   \n",
       "Major Prospects                              0.420884   \n",
       "Percentage Major Prospect                    0.051069   \n",
       "year                                        -0.143032   \n",
       "month                                        0.006804   \n",
       "day                                         -0.047270   \n",
       "\n",
       "                                 Percentage First Time Attendees  \\\n",
       "Participated                                            0.047840   \n",
       "Average Age                                            -0.152633   \n",
       "First Time Attendees                                    0.281961   \n",
       "Percentage First Time Attendees                         1.000000   \n",
       "Major Prospects                                         0.000751   \n",
       "Percentage Major Prospect                               0.067701   \n",
       "year                                                   -0.419344   \n",
       "month                                                   0.086106   \n",
       "day                                                    -0.063627   \n",
       "\n",
       "                                 Major Prospects  Percentage Major Prospect  \\\n",
       "Participated                            0.658973                   0.113415   \n",
       "Average Age                             0.308342                   0.549320   \n",
       "First Time Attendees                    0.420884                   0.051069   \n",
       "Percentage First Time Attendees         0.000751                   0.067701   \n",
       "Major Prospects                         1.000000                   0.481370   \n",
       "Percentage Major Prospect               0.481370                   1.000000   \n",
       "year                                   -0.303667                  -0.320860   \n",
       "month                                   0.060620                   0.007585   \n",
       "day                                     0.044416                   0.075520   \n",
       "\n",
       "                                     year     month       day  \n",
       "Participated                    -0.109570  0.019270 -0.002515  \n",
       "Average Age                     -0.057415  0.008201  0.074654  \n",
       "First Time Attendees            -0.143032  0.006804 -0.047270  \n",
       "Percentage First Time Attendees -0.419344  0.086106 -0.063627  \n",
       "Major Prospects                 -0.303667  0.060620  0.044416  \n",
       "Percentage Major Prospect       -0.320860  0.007585  0.075520  \n",
       "year                             1.000000 -0.138539  0.081161  \n",
       "month                           -0.138539  1.000000 -0.151735  \n",
       "day                              0.081161 -0.151735  1.000000  "
      ]
     },
     "execution_count": 40,
     "metadata": {},
     "output_type": "execute_result"
    }
   ],
   "source": [
    "datafinal.corr(method='pearson')"
   ]
  },
  {
   "cell_type": "code",
   "execution_count": 41,
   "id": "09de271d",
   "metadata": {
    "colab": {
     "base_uri": "https://localhost:8080/",
     "height": 35
    },
    "executionInfo": {
     "elapsed": 340,
     "status": "ok",
     "timestamp": 1639015893509,
     "user": {
      "displayName": "Rajesh Reddy Bogolu",
      "photoUrl": "https://lh3.googleusercontent.com/a/default-user=s64",
      "userId": "04960371768887858754"
     },
     "user_tz": 300
    },
    "id": "09de271d",
    "outputId": "8be0687b-827f-4ffa-94fd-d7a0c6726652"
   },
   "outputs": [
    {
     "data": {
      "text/plain": [
       "'!pip install dython\\nfrom dython import nominal\\nnominal.associations(datafinal,figsize=(30,20),mark_columns=True);'"
      ]
     },
     "execution_count": 41,
     "metadata": {},
     "output_type": "execute_result"
    }
   ],
   "source": [
    "\"\"\"!pip install dython\n",
    "from dython import nominal\n",
    "nominal.associations(datafinal,figsize=(30,20),mark_columns=True);\"\"\""
   ]
  },
  {
   "cell_type": "code",
   "execution_count": 42,
   "id": "1502cd72",
   "metadata": {
    "colab": {
     "base_uri": "https://localhost:8080/",
     "height": 236
    },
    "executionInfo": {
     "elapsed": 46,
     "status": "error",
     "timestamp": 1639024315682,
     "user": {
      "displayName": "Rajesh Reddy Bogolu",
      "photoUrl": "https://lh3.googleusercontent.com/a/default-user=s64",
      "userId": "04960371768887858754"
     },
     "user_tz": 300
    },
    "id": "1502cd72",
    "outputId": "170b509e-6fbf-4b7d-e563-79719c17ccd2"
   },
   "outputs": [],
   "source": [
    "data_DMV=datafinal[datafinal['Area']=='CP DMV']\n",
    "data_West=datafinal[datafinal['Area']=='CP West']\n",
    "data_Southeast=datafinal[datafinal['Area']=='CP Southeast']\n",
    "data_Northeast=datafinal[datafinal['Area']=='CP Northeast']\n",
    "data_Online=datafinal[datafinal['Area']=='CP Online']"
   ]
  },
  {
   "cell_type": "code",
   "execution_count": 43,
   "id": "b3b5e915",
   "metadata": {
    "executionInfo": {
     "elapsed": 328,
     "status": "ok",
     "timestamp": 1639015900069,
     "user": {
      "displayName": "Rajesh Reddy Bogolu",
      "photoUrl": "https://lh3.googleusercontent.com/a/default-user=s64",
      "userId": "04960371768887858754"
     },
     "user_tz": 300
    },
    "id": "b3b5e915"
   },
   "outputs": [],
   "source": [
    "#clean the extreme outliers\n",
    "def three_sigma(data,n=3):\n",
    "    mean=np.mean(data)\n",
    "    sigma=np.std(data)\n",
    "    new_data=data.drop(data[abs(data-mean)>3*sigma].index)\n",
    "    return new_data"
   ]
  },
  {
   "cell_type": "code",
   "execution_count": 44,
   "id": "ee5b14de",
   "metadata": {
    "colab": {
     "base_uri": "https://localhost:8080/",
     "height": 574
    },
    "executionInfo": {
     "elapsed": 173,
     "status": "ok",
     "timestamp": 1639015903157,
     "user": {
      "displayName": "Rajesh Reddy Bogolu",
      "photoUrl": "https://lh3.googleusercontent.com/a/default-user=s64",
      "userId": "04960371768887858754"
     },
     "user_tz": 300
    },
    "id": "ee5b14de",
    "outputId": "d3be73c6-f248-4029-f3c3-3bbdb22c27b0"
   },
   "outputs": [
    {
     "data": {
      "image/png": "[encoded data removed]",
      "text/plain": [
       "<Figure size 1080x576 with 1 Axes>"
      ]
     },
     "metadata": {},
     "output_type": "display_data"
    }
   ],
   "source": [
    "plt.boxplot([three_sigma(data_DMV['First Time Attendees']),three_sigma(data_West['First Time Attendees']),three_sigma(data_Southeast['First Time Attendees']),three_sigma(data_Northeast['First Time Attendees']),three_sigma(data_Online['First Time Attendees'])],labels=['DMV','Campus','Southeast','Northeast','Online'])\n",
    "plt.ylabel('First Time Attendees')\n",
    "plt.show()"
   ]
  },
  {
   "cell_type": "code",
   "execution_count": 45,
   "id": "26d3fa18",
   "metadata": {
    "colab": {
     "base_uri": "https://localhost:8080/",
     "height": 574
    },
    "executionInfo": {
     "elapsed": 198,
     "status": "ok",
     "timestamp": 1639015908437,
     "user": {
      "displayName": "Rajesh Reddy Bogolu",
      "photoUrl": "https://lh3.googleusercontent.com/a/default-user=s64",
      "userId": "04960371768887858754"
     },
     "user_tz": 300
    },
    "id": "26d3fa18",
    "outputId": "5c63bdfb-dd4d-4125-fdf1-fa85b518be18"
   },
   "outputs": [
    {
     "data": {
      "image/png": "[encoded data removed]",
      "text/plain": [
       "<Figure size 1080x576 with 1 Axes>"
      ]
     },
     "metadata": {},
     "output_type": "display_data"
    }
   ],
   "source": [
    "plt.boxplot([three_sigma(data_DMV['Major Prospects']),three_sigma(data_West['Major Prospects']),three_sigma(data_Southeast['Major Prospects']),three_sigma(data_Northeast['Major Prospects']),three_sigma(data_Online['Major Prospects'])],labels=['DMV','Campus','Southeast','Northeast','Online'])\n",
    "plt.ylabel('Major Prospects')\n",
    "plt.show()"
   ]
  },
  {
   "cell_type": "code",
   "execution_count": 46,
   "id": "e6ab1c5f",
   "metadata": {
    "colab": {
     "base_uri": "https://localhost:8080/",
     "height": 574
    },
    "executionInfo": {
     "elapsed": 341,
     "status": "ok",
     "timestamp": 1639015914640,
     "user": {
      "displayName": "Rajesh Reddy Bogolu",
      "photoUrl": "https://lh3.googleusercontent.com/a/default-user=s64",
      "userId": "04960371768887858754"
     },
     "user_tz": 300
    },
    "id": "e6ab1c5f",
    "outputId": "d4f579b7-ebad-4e19-a17b-54cde289cff6"
   },
   "outputs": [
    {
     "data": {
      "image/png": "[encoded data removed]",
      "text/plain": [
       "<Figure size 1080x576 with 1 Axes>"
      ]
     },
     "metadata": {},
     "output_type": "display_data"
    }
   ],
   "source": [
    "plt.boxplot([three_sigma(data_DMV['Percentage First Time Attendees']),three_sigma(data_West['Percentage First Time Attendees']),three_sigma(data_Southeast['Percentage First Time Attendees']),three_sigma(data_Northeast['Percentage First Time Attendees']),three_sigma(data_Online['Percentage First Time Attendees'])],labels=['DMV','West','Southeast','Northeast','Online'])\n",
    "plt.ylabel('Percentage First Time Attendees')\n",
    "plt.show()"
   ]
  },
  {
   "cell_type": "code",
   "execution_count": 47,
   "id": "5239fac0",
   "metadata": {
    "colab": {
     "base_uri": "https://localhost:8080/",
     "height": 574
    },
    "executionInfo": {
     "elapsed": 295,
     "status": "ok",
     "timestamp": 1639015922348,
     "user": {
      "displayName": "Rajesh Reddy Bogolu",
      "photoUrl": "https://lh3.googleusercontent.com/a/default-user=s64",
      "userId": "04960371768887858754"
     },
     "user_tz": 300
    },
    "id": "5239fac0",
    "outputId": "424749bc-8be5-4629-e5d0-b7b33c91fd77"
   },
   "outputs": [
    {
     "data": {
      "image/png": "[encoded data removed]",
      "text/plain": [
       "<Figure size 1080x576 with 1 Axes>"
      ]
     },
     "metadata": {},
     "output_type": "display_data"
    }
   ],
   "source": [
    "plt.boxplot([three_sigma(data_DMV['Percentage Major Prospect']),three_sigma(data_West['Percentage Major Prospect']),three_sigma(data_Southeast['Percentage Major Prospect']),three_sigma(data_Northeast['Percentage Major Prospect']),three_sigma(data_Online['Percentage Major Prospect'])],labels=['DMV','West','Southeast','Northeast','Online'])\n",
    "plt.ylabel('Percentage Major Prospect')\n",
    "plt.show()"
   ]
  },
  {
   "cell_type": "markdown",
   "id": "0d612613",
   "metadata": {
    "id": "0d612613"
   },
   "source": [
    "### Clustering "
   ]
  },
  {
   "cell_type": "code",
   "execution_count": 48,
   "id": "d6dd3ae7",
   "metadata": {
    "colab": {
     "base_uri": "https://localhost:8080/",
     "height": 502
    },
    "executionInfo": {
     "elapsed": 304,
     "status": "ok",
     "timestamp": 1639015932841,
     "user": {
      "displayName": "Rajesh Reddy Bogolu",
      "photoUrl": "https://lh3.googleusercontent.com/a/default-user=s64",
      "userId": "04960371768887858754"
     },
     "user_tz": 300
    },
    "id": "d6dd3ae7",
    "outputId": "2066d958-d1af-4862-bab8-7f212a15abec"
   },
   "outputs": [
    {
     "data": {
      "image/png": "[encoded data removed]",
      "text/plain": [
       "<Figure size 1080x576 with 1 Axes>"
      ]
     },
     "metadata": {},
     "output_type": "display_data"
    }
   ],
   "source": [
    "#Do the Kmeans clustering between average age and major prospect and pecentage of it. - Since slightly higher corrrelation than first time attendees \n",
    "data=np.array(datafinal[['Average Age','Major Prospects']],dtype='f')\n",
    "from scipy.cluster.vq import kmeans, vq\n",
    "# compute k-means with k = 3 (3 clusters)\n",
    "centroids,_= kmeans(data,3) \n",
    "# assign each sample to a cluster\n",
    "index,_= vq(data,centroids) \n",
    "from matplotlib.pyplot import plot, show\n",
    "# plot different color for each cluster by its index\n",
    "plot(data[index==0,0],data[index==0,1],'or')\n",
    "plot(data[index==1,0],data[index==1,1],'ob')\n",
    "plot(data[index==2,0],data[index==2,1],'om') \n",
    "plot(centroids[:,0],centroids[:,1],'sg',markersize=8) \n",
    "plt.xlabel('Average age')\n",
    "plt.ylabel('Major prospects')\n",
    "plt.show()\n",
    "#And then see what event can attract people around 40-60"
   ]
  },
  {
   "cell_type": "code",
   "execution_count": 49,
   "id": "7df912ca",
   "metadata": {
    "colab": {
     "base_uri": "https://localhost:8080/"
    },
    "executionInfo": {
     "elapsed": 244,
     "status": "ok",
     "timestamp": 1639015938721,
     "user": {
      "displayName": "Rajesh Reddy Bogolu",
      "photoUrl": "https://lh3.googleusercontent.com/a/default-user=s64",
      "userId": "04960371768887858754"
     },
     "user_tz": 300
    },
    "id": "7df912ca",
    "outputId": "20e7eedd-91b6-4130-ef2c-6043ebd2c5db",
    "scrolled": true
   },
   "outputs": [
    {
     "name": "stderr",
     "output_type": "stream",
     "text": [
      "C:\\Users\\28149\\AppData\\Local\\Temp/ipykernel_5128/4016024859.py:2: UserWarning: Boolean Series key will be reindexed to match DataFrame index.\n",
      "  data_Athletics_40to60=data_40to60[datafinal['Group']=='CP Athletics']\n",
      "C:\\Users\\28149\\AppData\\Local\\Temp/ipykernel_5128/4016024859.py:3: UserWarning: Boolean Series key will be reindexed to match DataFrame index.\n",
      "  data_ProDev_40to60=data_40to60[datafinal['Group']=='CP ProDev']\n",
      "C:\\Users\\28149\\AppData\\Local\\Temp/ipykernel_5128/4016024859.py:4: UserWarning: Boolean Series key will be reindexed to match DataFrame index.\n",
      "  data_Social_40to60=data_40to60[datafinal['Group']=='CP Social']\n",
      "C:\\Users\\28149\\AppData\\Local\\Temp/ipykernel_5128/4016024859.py:5: UserWarning: Boolean Series key will be reindexed to match DataFrame index.\n",
      "  data_Service_40to60=data_40to60[datafinal['Group']=='CP Service']\n",
      "C:\\Users\\28149\\AppData\\Local\\Temp/ipykernel_5128/4016024859.py:6: UserWarning: Boolean Series key will be reindexed to match DataFrame index.\n",
      "  data_Stewardship_40to60=data_40to60[datafinal['Group']=='CP Stewardship']\n"
     ]
    }
   ],
   "source": [
    "data_40to60=datafinal.loc[(datafinal['Average Age']>40) &(datafinal['Average Age']<60)]\n",
    "data_Athletics_40to60=data_40to60[datafinal['Group']=='CP Athletics']\n",
    "data_ProDev_40to60=data_40to60[datafinal['Group']=='CP ProDev']\n",
    "data_Social_40to60=data_40to60[datafinal['Group']=='CP Social']\n",
    "data_Service_40to60=data_40to60[datafinal['Group']=='CP Service']\n",
    "data_Stewardship_40to60=data_40to60[datafinal['Group']=='CP Stewardship']"
   ]
  },
  {
   "cell_type": "code",
   "execution_count": 50,
   "id": "5067219b",
   "metadata": {
    "colab": {
     "base_uri": "https://localhost:8080/",
     "height": 574
    },
    "executionInfo": {
     "elapsed": 306,
     "status": "ok",
     "timestamp": 1639015947642,
     "user": {
      "displayName": "Rajesh Reddy Bogolu",
      "photoUrl": "https://lh3.googleusercontent.com/a/default-user=s64",
      "userId": "04960371768887858754"
     },
     "user_tz": 300
    },
    "id": "5067219b",
    "outputId": "64b69c28-f181-49db-a432-cecd0efb6237"
   },
   "outputs": [
    {
     "data": {
      "image/png": "[encoded data removed]",
      "text/plain": [
       "<Figure size 1080x576 with 1 Axes>"
      ]
     },
     "metadata": {},
     "output_type": "display_data"
    }
   ],
   "source": [
    "plt.boxplot([three_sigma(data_Service_40to60['Major Prospects']),three_sigma(data_Athletics_40to60['Major Prospects']),three_sigma(data_ProDev_40to60['Major Prospects']),three_sigma(data_Social_40to60['Major Prospects']),three_sigma(data_Stewardship_40to60['Major Prospects'])],labels=['Service','Athletics','ProDev','Social','Stewardship'])\n",
    "plt.ylabel('Prospects')\n",
    "plt.show()"
   ]
  },
  {
   "cell_type": "code",
   "execution_count": 51,
   "id": "14cbbde0",
   "metadata": {
    "colab": {
     "base_uri": "https://localhost:8080/"
    },
    "executionInfo": {
     "elapsed": 813,
     "status": "ok",
     "timestamp": 1639015953634,
     "user": {
      "displayName": "Rajesh Reddy Bogolu",
      "photoUrl": "https://lh3.googleusercontent.com/a/default-user=s64",
      "userId": "04960371768887858754"
     },
     "user_tz": 300
    },
    "id": "14cbbde0",
    "outputId": "d80f512c-5f2c-4be2-acf6-e7402d1adb30"
   },
   "outputs": [
    {
     "name": "stderr",
     "output_type": "stream",
     "text": [
      "C:\\Users\\28149\\AppData\\Local\\Temp/ipykernel_5128/283972578.py:3: UserWarning: Boolean Series key will be reindexed to match DataFrame index.\n",
      "  data_Athletics_40=data_40[datafinal['Group']=='CP Athletics']\n",
      "C:\\Users\\28149\\AppData\\Local\\Temp/ipykernel_5128/283972578.py:4: UserWarning: Boolean Series key will be reindexed to match DataFrame index.\n",
      "  data_ProDev_40=data_40[datafinal['Group']=='CP ProDev']\n",
      "C:\\Users\\28149\\AppData\\Local\\Temp/ipykernel_5128/283972578.py:5: UserWarning: Boolean Series key will be reindexed to match DataFrame index.\n",
      "  data_Social_40=data_40[datafinal['Group']=='CP Social']\n",
      "C:\\Users\\28149\\AppData\\Local\\Temp/ipykernel_5128/283972578.py:6: UserWarning: Boolean Series key will be reindexed to match DataFrame index.\n",
      "  data_Service_40=data_40[datafinal['Group']=='CP Service']\n",
      "C:\\Users\\28149\\AppData\\Local\\Temp/ipykernel_5128/283972578.py:7: UserWarning: Boolean Series key will be reindexed to match DataFrame index.\n",
      "  data_Stewardship_40=data_40[datafinal['Group']=='CP Stewardship']\n"
     ]
    }
   ],
   "source": [
    "#Age less than 40 - event change \n",
    "data_40=datafinal.loc[(datafinal['Average Age']<40)]\n",
    "data_Athletics_40=data_40[datafinal['Group']=='CP Athletics']\n",
    "data_ProDev_40=data_40[datafinal['Group']=='CP ProDev']\n",
    "data_Social_40=data_40[datafinal['Group']=='CP Social']\n",
    "data_Service_40=data_40[datafinal['Group']=='CP Service']\n",
    "data_Stewardship_40=data_40[datafinal['Group']=='CP Stewardship']"
   ]
  },
  {
   "cell_type": "code",
   "execution_count": 52,
   "id": "c009bfc3",
   "metadata": {
    "colab": {
     "base_uri": "https://localhost:8080/",
     "height": 574
    },
    "executionInfo": {
     "elapsed": 264,
     "status": "ok",
     "timestamp": 1639015957037,
     "user": {
      "displayName": "Rajesh Reddy Bogolu",
      "photoUrl": "https://lh3.googleusercontent.com/a/default-user=s64",
      "userId": "04960371768887858754"
     },
     "user_tz": 300
    },
    "id": "c009bfc3",
    "outputId": "71957707-b421-4e9e-bfbb-914ecfcd75ca"
   },
   "outputs": [
    {
     "data": {
      "image/png": "[encoded data removed]",
      "text/plain": [
       "<Figure size 1080x576 with 1 Axes>"
      ]
     },
     "metadata": {},
     "output_type": "display_data"
    }
   ],
   "source": [
    "plt.boxplot([three_sigma(data_Service_40['Major Prospects']),three_sigma(data_Athletics_40['Major Prospects']),three_sigma(data_ProDev_40['Major Prospects']),three_sigma(data_Social_40['Major Prospects']),three_sigma(data_Stewardship_40['Major Prospects'])],labels=['Service','Athletics','ProDev','Social','Stewardship'])\n",
    "plt.ylabel('Prospects')\n",
    "plt.show()"
   ]
  },
  {
   "cell_type": "code",
   "execution_count": 53,
   "id": "95f638c1",
   "metadata": {
    "colab": {
     "base_uri": "https://localhost:8080/",
     "height": 231
    },
    "executionInfo": {
     "elapsed": 309,
     "status": "ok",
     "timestamp": 1639015961856,
     "user": {
      "displayName": "Rajesh Reddy Bogolu",
      "photoUrl": "https://lh3.googleusercontent.com/a/default-user=s64",
      "userId": "04960371768887858754"
     },
     "user_tz": 300
    },
    "id": "95f638c1",
    "outputId": "167bf193-6a4d-4380-9808-ed1e22ce093e"
   },
   "outputs": [
    {
     "data": {
      "image/png": "[encoded data removed]",
      "text/plain": [
       "<Figure size 1080x216 with 1 Axes>"
      ]
     },
     "metadata": {},
     "output_type": "display_data"
    }
   ],
   "source": [
    "# Historic time series graph -- 1st time attendees\n",
    "import matplotlib.pyplot as plt\n",
    "datafinal1 = datafinal.sort_values(by = 'Event Date')\n",
    "plt.figure(figsize=(15,3))\n",
    "plt.plot('Event Date', 'Percentage First Time Attendees', data=datafinal1, color='b')\n",
    "plt.title(\"Changes in Percentage First Time Attendees over time\", fontsize=15)\n",
    "plt.show()\n"
   ]
  },
  {
   "cell_type": "code",
   "execution_count": 54,
   "id": "90d24094",
   "metadata": {
    "colab": {
     "base_uri": "https://localhost:8080/",
     "height": 231
    },
    "executionInfo": {
     "elapsed": 351,
     "status": "ok",
     "timestamp": 1639015968203,
     "user": {
      "displayName": "Rajesh Reddy Bogolu",
      "photoUrl": "https://lh3.googleusercontent.com/a/default-user=s64",
      "userId": "04960371768887858754"
     },
     "user_tz": 300
    },
    "id": "90d24094",
    "outputId": "25f5af6e-dd28-4ca7-f230-678ad9c8ec3b"
   },
   "outputs": [
    {
     "data": {
      "image/png": "[encoded data removed]",
      "text/plain": [
       "<Figure size 1080x216 with 1 Axes>"
      ]
     },
     "metadata": {},
     "output_type": "display_data"
    }
   ],
   "source": [
    "# Historic time series graph -- 1st time attendees\n",
    "import matplotlib.pyplot as plt\n",
    "plt.figure(figsize=(15,3))\n",
    "plt.plot('Event Date', 'Percentage Major Prospect', data=datafinal1, color='r')\n",
    "plt.title(\"Changes in Percentage Major Prospect over time\", fontsize=15)\n",
    "plt.show()"
   ]
  }
 ],
 "metadata": {
  "colab": {
   "name": "1203TeamAssignment_Notebook_Full.ipynb",
   "provenance": []
  },
  "kernelspec": {
   "display_name": "Python 3 (ipykernel)",
   "language": "python",
   "name": "python3"
  },
  "language_info": {
   "codemirror_mode": {
    "name": "ipython",
    "version": 3
   },
   "file_extension": ".py",
   "mimetype": "text/x-python",
   "name": "python",
   "nbconvert_exporter": "python",
   "pygments_lexer": "ipython3",
   "version": "3.9.7"
  }
 },
 "nbformat": 4,
 "nbformat_minor": 5
}
